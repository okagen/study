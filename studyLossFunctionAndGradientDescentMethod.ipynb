{
 "cells": [
  {
   "cell_type": "markdown",
   "metadata": {
    "colab_type": "text",
    "id": "D4Fh2MIgzP_l"
   },
   "source": [
    "# Understanding Loss Function and Gradient Descent Method.\n",
    "\n",
    "  - loss function / 損失関数\n",
    "  - gradient descent method / 勾配降下法"
   ]
  },
  {
   "cell_type": "markdown",
   "metadata": {},
   "source": [
    "## Step 0 : Preparation. "
   ]
  },
  {
   "cell_type": "code",
   "execution_count": 1,
   "metadata": {
    "colab": {},
    "colab_type": "code",
    "id": "kzEKKjsKz2qo"
   },
   "outputs": [
    {
     "data": {
      "text/plain": [
       "array([[166. ,  58.7],\n",
       "       [176. ,  75.7],\n",
       "       [171. ,  62.1],\n",
       "       [173. ,  70.4],\n",
       "       [169. ,  60.1]])"
      ]
     },
     "metadata": {},
     "output_type": "display_data"
    }
   ],
   "source": [
    "%matplotlib inline\n",
    "import numpy as np\n",
    "import matplotlib.pyplot as plt\n",
    "\n",
    "# Select figure formats for the inline backend.\n",
    "from IPython.display import set_matplotlib_formats\n",
    "set_matplotlib_formats('png', 'pdf')\n",
    "\n",
    "# Create train data./ 学習用データを生成\n",
    "# The data is like a paired of height and weight. / 身長と体重をペアにしたようなデータ。\n",
    "train1 = np.array([[166,58.7], [176,75.7], [171,62.1], [173,70.4], [169,60.1]])\n",
    "display(train1)"
   ]
  },
  {
   "cell_type": "code",
   "execution_count": 2,
   "metadata": {
    "colab": {},
    "colab_type": "code",
    "id": "GRK7SMWqzJfP"
   },
   "outputs": [
    {
     "data": {
      "application/pdf": "[encoded data removed]",
      "image/png": "[encoded data removed]",
      "text/plain": [
       "<Figure size 432x288 with 1 Axes>"
      ]
     },
     "metadata": {
      "needs_background": "light"
     },
     "output_type": "display_data"
    }
   ],
   "source": [
    "# Show the train data on the scatter chart. / 学習用データを散布図に表示\n",
    "plt.scatter(train1[:,0], train1[:,1], s=40, c='b')\n",
    "plt.grid()\n",
    "plt.show()"
   ]
  },
  {
   "cell_type": "markdown",
   "metadata": {},
   "source": [
    "## Step 1 : Normalize the array.\n",
    "配列を正規化"
   ]
  },
  {
   "cell_type": "markdown",
   "metadata": {},
   "source": [
    "### Calculate the average of each value. / それぞれの値の平均値の計算"
   ]
  },
  {
   "cell_type": "code",
   "execution_count": 3,
   "metadata": {
    "colab": {},
    "colab_type": "code",
    "id": "os0_j874zRB8"
   },
   "outputs": [
    {
     "data": {
      "text/plain": [
       "array([171. ,  65.4])"
      ]
     },
     "metadata": {},
     "output_type": "display_data"
    }
   ],
   "source": [
    "mean = train1.mean(axis=0)\n",
    "display(mean)"
   ]
  },
  {
   "cell_type": "markdown",
   "metadata": {},
   "source": [
    "### Normalize by subtracting the average value from each value. / それぞれの値から平均値を引いて、正規化する。"
   ]
  },
  {
   "cell_type": "code",
   "execution_count": 4,
   "metadata": {
    "colab": {},
    "colab_type": "code",
    "id": "Z9DX99oo7IMY"
   },
   "outputs": [
    {
     "data": {
      "text/plain": [
       "array([[-5. , -6.7],\n",
       "       [ 5. , 10.3],\n",
       "       [ 0. , -3.3],\n",
       "       [ 2. ,  5. ],\n",
       "       [-2. , -5.3]])"
      ]
     },
     "metadata": {},
     "output_type": "display_data"
    }
   ],
   "source": [
    "train2 = train1 - mean\n",
    "display(train2)"
   ]
  },
  {
   "cell_type": "markdown",
   "metadata": {},
   "source": [
    "### Show on a scatter chart. / 散布図上に表示"
   ]
  },
  {
   "cell_type": "code",
   "execution_count": 5,
   "metadata": {
    "colab": {},
    "colab_type": "code",
    "id": "db5fwgUo7LDu"
   },
   "outputs": [
    {
     "data": {
      "application/pdf": "[encoded data removed]",
      "image/png": "[encoded data removed]",
      "text/plain": [
       "<Figure size 432x288 with 1 Axes>"
      ]
     },
     "metadata": {
      "needs_background": "light"
     },
     "output_type": "display_data"
    }
   ],
   "source": [
    "plt.scatter(train2[:,0], train2[:,1], s=40, c='b')\n",
    "plt.plot([-6,6],[0,0], lw=2, c='k')\n",
    "plt.plot([0,0],[-8,12], lw=2, c='k')\n",
    "plt.xlim(-6,6)\n",
    "plt.ylim(-8,12)\n",
    "plt.grid()\n",
    "plt.show()"
   ]
  },
  {
   "cell_type": "markdown",
   "metadata": {},
   "source": [
    "## Step 2 : Linear single regression analysis\n",
    "説明変数xから、目的変数yを求める単回帰分析を行う。"
   ]
  },
  {
   "cell_type": "markdown",
   "metadata": {},
   "source": [
    "Derive an equation that finds the value of ***y*** close to the correct answer by finding the inner product of the two vectors ***w*** and ***x***. / \n",
    "***w***と***x***の2つのベクトルの内積を求めることで、正解に近い***y***の値が求まるような式の導出。\n",
    "\n",
    "$$\n",
    "    \\boldsymbol{w} =\n",
    "        \\left[\\begin{array}{c}\n",
    "            w0 \\\\\n",
    "            w1 \\\\\n",
    "        \\end{array}\\right] \\quad\n",
    "    \\boldsymbol{x} =\n",
    "        \\left[\\begin{array}{c}\n",
    "            1 \\\\\n",
    "            x \\\\\n",
    "        \\end{array}\\right] \\quad\n",
    "$$\n",
    "\n",
    "$$\n",
    "    \\boldsymbol{y} = \\boldsymbol{w} \\cdot \\boldsymbol{x} =\n",
    "        \\left[\\begin{array}{c}\n",
    "            w0 \\\\\n",
    "            w1 \\\\\n",
    "        \\end{array}\\right] \\cdot\n",
    "        \\left[\\begin{array}{c}\n",
    "            1 \\\\\n",
    "            x \\\\\n",
    "        \\end{array}\\right] =\n",
    "            \\boldsymbol{w0} + \\boldsymbol{w1x}\n",
    "$$\n",
    "\n",
    "\n"
   ]
  },
  {
   "cell_type": "markdown",
   "metadata": {},
   "source": [
    "### Create a list of explanatory variable vector ***x***. / 説明変数ベクトル***x***のリストを作成 "
   ]
  },
  {
   "cell_type": "code",
   "execution_count": 6,
   "metadata": {
    "colab": {},
    "colab_type": "code",
    "id": "bhPdJbKk78sJ"
   },
   "outputs": [
    {
     "data": {
      "text/plain": [
       "array([[-5.],\n",
       "       [ 5.],\n",
       "       [ 0.],\n",
       "       [ 2.],\n",
       "       [-2.]])"
      ]
     },
     "metadata": {},
     "output_type": "display_data"
    },
    {
     "data": {
      "text/plain": [
       "(5, 1)"
      ]
     },
     "metadata": {},
     "output_type": "display_data"
    },
    {
     "data": {
      "text/plain": [
       "array([[ 1., -5.],\n",
       "       [ 1.,  5.],\n",
       "       [ 1.,  0.],\n",
       "       [ 1.,  2.],\n",
       "       [ 1., -2.]])"
      ]
     },
     "metadata": {},
     "output_type": "display_data"
    },
    {
     "data": {
      "text/plain": [
       "(5, 2)"
      ]
     },
     "metadata": {},
     "output_type": "display_data"
    }
   ],
   "source": [
    "x_tmp = train2[:,0:1]\n",
    "x_array = np.insert(x_tmp, 0, 1.0, axis=1)\n",
    "\n",
    "display(x_tmp)\n",
    "display(x_tmp.shape)\n",
    "display(x_array)\n",
    "display(x_array.shape)"
   ]
  },
  {
   "cell_type": "markdown",
   "metadata": {},
   "source": [
    "### Create a list of correct values (objective variables) ***y***. / 正解値(目的変数)***y***のリストを作成"
   ]
  },
  {
   "cell_type": "code",
   "execution_count": 7,
   "metadata": {
    "colab": {},
    "colab_type": "code",
    "id": "f8qqF1fRItvK"
   },
   "outputs": [
    {
     "data": {
      "text/plain": [
       "array([-6.7, 10.3, -3.3,  5. , -5.3])"
      ]
     },
     "metadata": {},
     "output_type": "display_data"
    }
   ],
   "source": [
    "yt = train2[:,1]\n",
    "display(yt)"
   ]
  },
  {
   "cell_type": "markdown",
   "metadata": {},
   "source": [
    "### Initialize vaiables. / 変数を初期化"
   ]
  },
  {
   "cell_type": "code",
   "execution_count": 8,
   "metadata": {
    "colab": {},
    "colab_type": "code",
    "id": "2TTjapr5WYl1"
   },
   "outputs": [],
   "source": [
    "# Total number of x in the x_array. / xの総数 (=5)\n",
    "M  = x_array.shape[0]\n",
    "\n",
    "# Number of x dimension. / xの次元数(=2)\n",
    "D = x_array.shape[1]\n",
    "\n",
    "# Iteration count. / 繰り返し回数\n",
    "iters = 200\n",
    "\n",
    "# Learning rate. / 学習率\n",
    "alpha = 0.01 \n",
    "\n",
    "# Initial value of the weight vector.(arbitrary value) / 重みベクトルの初期値 (任意の値)\n",
    "w = np.array([2, -1])\n",
    "\n",
    "# For recording evaluation results (Iteration No, Loss function values, w0, w1) / 評価結果記録用 (繰り返し番号, 損失関数値, w0, w1を記録)\n",
    "history = np.zeros((0,4))"
   ]
  },
  {
   "cell_type": "markdown",
   "metadata": {},
   "source": [
    "### Execute gradient descent method and calcurate loss function value. / 勾配降下法を実行し、欠損間数値を計算する"
   ]
  },
  {
   "cell_type": "code",
   "execution_count": 19,
   "metadata": {
    "colab": {},
    "colab_type": "code",
    "id": "rdQzAOeokft5"
   },
   "outputs": [
    {
     "data": {
      "text/plain": [
       "array([[ 0.        , 50.416     ,  1.98      , -0.6728    ],\n",
       "       [ 1.        , 40.29116307,  1.9602    , -0.3835552 ],\n",
       "       [ 2.        , 32.37114247,  1.940598  , -0.1278628 ],\n",
       "       [ 3.        , 26.17424616,  1.92119202,  0.09816929],\n",
       "       [ 4.        , 21.32404985,  1.9019801 ,  0.29798165]])"
      ]
     },
     "metadata": {},
     "output_type": "display_data"
    }
   ],
   "source": [
    "for i in range(iters):\n",
    "    \n",
    "    # Calculate predicted value using inner product. / 内積を使った予測値の計算\n",
    "    # e.g. yp = [-9.09863826e+00  9.10825829e+00  4.81001858e-03  3.64618933e+00 -3.63656929e+00]\n",
    "    yp = x_array @ w\n",
    "    \n",
    "    # Calculate difference between predicted value and correnct values. / 誤差の計算\n",
    "    # e.g. yd = [-2.40280383 -1.19590728  3.30064444 -1.35797624  1.65926513]\n",
    "    yd = yp - yt\n",
    "    \n",
    "    # Execute gradient descent method. / 勾配降下法の実装\n",
    "    # e.g. w = [1.14524580e-05 1.82068966e+00]\n",
    "    w = w - alpha * (x_array.T @ yd) / M\n",
    "    \n",
    "    # Store data for learning curve. / 学習曲線描画用データの保存\n",
    "    w0 = float(w[0])\n",
    "    w1 = float(w[1])\n",
    "    L = np.mean(yd ** 2) / 2 # Loss function value.\n",
    "    line = np.array([i, L, w0, w1])\n",
    "    history = np.vstack((history, line))\n",
    "    \n",
    "display(history[:5])"
   ]
  },
  {
   "cell_type": "code",
   "execution_count": null,
   "metadata": {},
   "outputs": [],
   "source": []
  }
 ],
 "metadata": {
  "colab": {
   "collapsed_sections": [],
   "name": "nikkei_soft_0519_1.ipynb",
   "provenance": [],
   "version": "0.3.2"
  },
  "kernelspec": {
   "display_name": "Python 3",
   "language": "python",
   "name": "python3"
  },
  "language_info": {
   "codemirror_mode": {
    "name": "ipython",
    "version": 3
   },
   "file_extension": ".py",
   "mimetype": "text/x-python",
   "name": "python",
   "nbconvert_exporter": "python",
   "pygments_lexer": "ipython3",
   "version": "3.7.3"
  }
 },
 "nbformat": 4,
 "nbformat_minor": 1
}
