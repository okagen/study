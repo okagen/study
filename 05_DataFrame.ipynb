{
 "cells": [
  {
   "cell_type": "markdown",
   "metadata": {},
   "source": [
    "---\n",
    "## CSVファイル読み込み DataFrameに保存"
   ]
  },
  {
   "cell_type": "code",
   "execution_count": 37,
   "metadata": {},
   "outputs": [
    {
     "data": {
      "text/plain": [
       "(312372, 6)"
      ]
     },
     "metadata": {},
     "output_type": "display_data"
    },
    {
     "data": {
      "text/html": [
       "<div>\n",
       "<style scoped>\n",
       "    .dataframe tbody tr th:only-of-type {\n",
       "        vertical-align: middle;\n",
       "    }\n",
       "\n",
       "    .dataframe tbody tr th {\n",
       "        vertical-align: top;\n",
       "    }\n",
       "\n",
       "    .dataframe thead th {\n",
       "        text-align: right;\n",
       "    }\n",
       "</style>\n",
       "<table border=\"1\" class=\"dataframe\">\n",
       "  <thead>\n",
       "    <tr style=\"text-align: right;\">\n",
       "      <th></th>\n",
       "      <th>ProNum</th>\n",
       "      <th>AnsShNum</th>\n",
       "      <th>SchCode</th>\n",
       "      <th>ImpDate</th>\n",
       "      <th>ImpTime</th>\n",
       "      <th>ClaCode</th>\n",
       "    </tr>\n",
       "  </thead>\n",
       "  <tbody>\n",
       "    <tr>\n",
       "      <th>0</th>\n",
       "      <td>1</td>\n",
       "      <td>1000043</td>\n",
       "      <td>30120231</td>\n",
       "      <td>2019-05-06</td>\n",
       "      <td>13:07:11</td>\n",
       "      <td>0</td>\n",
       "    </tr>\n",
       "    <tr>\n",
       "      <th>1</th>\n",
       "      <td>4</td>\n",
       "      <td>1000043</td>\n",
       "      <td>30120231</td>\n",
       "      <td>2019-05-08</td>\n",
       "      <td>13:23:57</td>\n",
       "      <td>0</td>\n",
       "    </tr>\n",
       "    <tr>\n",
       "      <th>2</th>\n",
       "      <td>4</td>\n",
       "      <td>1000055</td>\n",
       "      <td>30120231</td>\n",
       "      <td>2019-05-08</td>\n",
       "      <td>13:23:57</td>\n",
       "      <td>0</td>\n",
       "    </tr>\n",
       "    <tr>\n",
       "      <th>3</th>\n",
       "      <td>2</td>\n",
       "      <td>1000055</td>\n",
       "      <td>30120231</td>\n",
       "      <td>2019-05-07</td>\n",
       "      <td>13:05:52</td>\n",
       "      <td>0</td>\n",
       "    </tr>\n",
       "    <tr>\n",
       "      <th>4</th>\n",
       "      <td>2</td>\n",
       "      <td>1000057</td>\n",
       "      <td>30120231</td>\n",
       "      <td>2019-05-07</td>\n",
       "      <td>13:05:52</td>\n",
       "      <td>0</td>\n",
       "    </tr>\n",
       "  </tbody>\n",
       "</table>\n",
       "</div>"
      ],
      "text/plain": [
       "   ProNum  AnsShNum   SchCode    ImpDate   ImpTime  ClaCode\n",
       "0       1   1000043  30120231 2019-05-06  13:07:11        0\n",
       "1       4   1000043  30120231 2019-05-08  13:23:57        0\n",
       "2       4   1000055  30120231 2019-05-08  13:23:57        0\n",
       "3       2   1000055  30120231 2019-05-07  13:05:52        0\n",
       "4       2   1000057  30120231 2019-05-07  13:05:52        0"
      ]
     },
     "metadata": {},
     "output_type": "display_data"
    },
    {
     "data": {
      "text/plain": [
       "ProNum               int64\n",
       "AnsShNum             int64\n",
       "SchCode              int64\n",
       "ImpDate     datetime64[ns]\n",
       "ImpTime             object\n",
       "ClaCode              int64\n",
       "dtype: object"
      ]
     },
     "metadata": {},
     "output_type": "display_data"
    }
   ],
   "source": [
    "import pandas as pd\n",
    "import numpy as np\n",
    "\n",
    "csv_encoding = 'Shift_JISx0213'\n",
    "inputFile = \".\\\\Data\\\\05_DateTimeData.csv\"\n",
    "#inputFile = \"C:\\\\work\\\\pyCSV\\\\data\\\\STD\\\\STD_Step000\\\\STD-JH_H26.csv\"\n",
    "\n",
    "df = pd.read_csv(inputFile,index_col=False, encoding=csv_encoding)\n",
    "df['ImpDate'] = pd.to_datetime(df['ImpDate'], format='%Y-%m-%d')\n",
    "display(df.shape)\n",
    "display(df.head(5))\n",
    "display(df.dtypes)"
   ]
  },
  {
   "cell_type": "code",
   "execution_count": 38,
   "metadata": {},
   "outputs": [
    {
     "data": {
      "text/html": [
       "<div>\n",
       "<style scoped>\n",
       "    .dataframe tbody tr th:only-of-type {\n",
       "        vertical-align: middle;\n",
       "    }\n",
       "\n",
       "    .dataframe tbody tr th {\n",
       "        vertical-align: top;\n",
       "    }\n",
       "\n",
       "    .dataframe thead th {\n",
       "        text-align: right;\n",
       "    }\n",
       "</style>\n",
       "<table border=\"1\" class=\"dataframe\">\n",
       "  <thead>\n",
       "    <tr style=\"text-align: right;\">\n",
       "      <th></th>\n",
       "      <th>ProNum</th>\n",
       "      <th>AnsShNum</th>\n",
       "      <th>SchCode</th>\n",
       "      <th>ImpDate</th>\n",
       "      <th>ImpTime</th>\n",
       "      <th>ClaCode</th>\n",
       "    </tr>\n",
       "  </thead>\n",
       "  <tbody>\n",
       "    <tr>\n",
       "      <th>312367</th>\n",
       "      <td>2</td>\n",
       "      <td>9020402</td>\n",
       "      <td>31120473</td>\n",
       "      <td>2019-05-07</td>\n",
       "      <td>13:05:53</td>\n",
       "      <td>0</td>\n",
       "    </tr>\n",
       "    <tr>\n",
       "      <th>312368</th>\n",
       "      <td>4</td>\n",
       "      <td>9020404</td>\n",
       "      <td>31120473</td>\n",
       "      <td>2019-05-08</td>\n",
       "      <td>13:24:01</td>\n",
       "      <td>0</td>\n",
       "    </tr>\n",
       "    <tr>\n",
       "      <th>312369</th>\n",
       "      <td>2</td>\n",
       "      <td>9020406</td>\n",
       "      <td>31120473</td>\n",
       "      <td>2019-05-07</td>\n",
       "      <td>13:05:44</td>\n",
       "      <td>0</td>\n",
       "    </tr>\n",
       "    <tr>\n",
       "      <th>312370</th>\n",
       "      <td>4</td>\n",
       "      <td>9020512</td>\n",
       "      <td>32620185</td>\n",
       "      <td>2019-05-17</td>\n",
       "      <td>13:05:27</td>\n",
       "      <td>0</td>\n",
       "    </tr>\n",
       "    <tr>\n",
       "      <th>312371</th>\n",
       "      <td>4</td>\n",
       "      <td>9020534</td>\n",
       "      <td>34020390</td>\n",
       "      <td>2019-05-17</td>\n",
       "      <td>13:05:27</td>\n",
       "      <td>0</td>\n",
       "    </tr>\n",
       "  </tbody>\n",
       "</table>\n",
       "</div>"
      ],
      "text/plain": [
       "        ProNum  AnsShNum   SchCode    ImpDate   ImpTime  ClaCode\n",
       "312367       2   9020402  31120473 2019-05-07  13:05:53        0\n",
       "312368       4   9020404  31120473 2019-05-08  13:24:01        0\n",
       "312369       2   9020406  31120473 2019-05-07  13:05:44        0\n",
       "312370       4   9020512  32620185 2019-05-17  13:05:27        0\n",
       "312371       4   9020534  34020390 2019-05-17  13:05:27        0"
      ]
     },
     "metadata": {},
     "output_type": "display_data"
    }
   ],
   "source": [
    "display(df.tail(5))"
   ]
  },
  {
   "cell_type": "markdown",
   "metadata": {},
   "source": [
    "---\n",
    "## ClaCode == 0 のみ抽出"
   ]
  },
  {
   "cell_type": "code",
   "execution_count": 39,
   "metadata": {},
   "outputs": [
    {
     "data": {
      "text/plain": [
       "(292904, 6)"
      ]
     },
     "metadata": {},
     "output_type": "display_data"
    }
   ],
   "source": [
    "df_Cla0 = df[df[\"ClaCode\"] ==0]\n",
    "display(df_Cla0.shape)"
   ]
  },
  {
   "cell_type": "markdown",
   "metadata": {},
   "source": [
    "---\n",
    "## ProNum(1～5)の値でDataFrameを分割"
   ]
  },
  {
   "cell_type": "code",
   "execution_count": 40,
   "metadata": {},
   "outputs": [
    {
     "data": {
      "text/html": [
       "<div>\n",
       "<style scoped>\n",
       "    .dataframe tbody tr th:only-of-type {\n",
       "        vertical-align: middle;\n",
       "    }\n",
       "\n",
       "    .dataframe tbody tr th {\n",
       "        vertical-align: top;\n",
       "    }\n",
       "\n",
       "    .dataframe thead th {\n",
       "        text-align: right;\n",
       "    }\n",
       "</style>\n",
       "<table border=\"1\" class=\"dataframe\">\n",
       "  <thead>\n",
       "    <tr style=\"text-align: right;\">\n",
       "      <th></th>\n",
       "      <th>ProNum</th>\n",
       "      <th>AnsShNum</th>\n",
       "      <th>SchCode</th>\n",
       "      <th>ImpDate</th>\n",
       "      <th>ImpTime</th>\n",
       "      <th>ClaCode</th>\n",
       "    </tr>\n",
       "  </thead>\n",
       "  <tbody>\n",
       "    <tr>\n",
       "      <th>0</th>\n",
       "      <td>1</td>\n",
       "      <td>1000043</td>\n",
       "      <td>30120231</td>\n",
       "      <td>2019-05-06</td>\n",
       "      <td>13:07:11</td>\n",
       "      <td>0</td>\n",
       "    </tr>\n",
       "    <tr>\n",
       "      <th>11</th>\n",
       "      <td>1</td>\n",
       "      <td>1000061</td>\n",
       "      <td>30120231</td>\n",
       "      <td>2019-05-06</td>\n",
       "      <td>13:07:11</td>\n",
       "      <td>0</td>\n",
       "    </tr>\n",
       "    <tr>\n",
       "      <th>22</th>\n",
       "      <td>1</td>\n",
       "      <td>1000101</td>\n",
       "      <td>30120231</td>\n",
       "      <td>2019-05-06</td>\n",
       "      <td>13:07:11</td>\n",
       "      <td>0</td>\n",
       "    </tr>\n",
       "    <tr>\n",
       "      <th>24</th>\n",
       "      <td>1</td>\n",
       "      <td>1000104</td>\n",
       "      <td>30120231</td>\n",
       "      <td>2019-05-06</td>\n",
       "      <td>13:07:11</td>\n",
       "      <td>0</td>\n",
       "    </tr>\n",
       "    <tr>\n",
       "      <th>25</th>\n",
       "      <td>1</td>\n",
       "      <td>1000106</td>\n",
       "      <td>30120231</td>\n",
       "      <td>2019-05-06</td>\n",
       "      <td>13:07:11</td>\n",
       "      <td>0</td>\n",
       "    </tr>\n",
       "  </tbody>\n",
       "</table>\n",
       "</div>"
      ],
      "text/plain": [
       "    ProNum  AnsShNum   SchCode    ImpDate   ImpTime  ClaCode\n",
       "0        1   1000043  30120231 2019-05-06  13:07:11        0\n",
       "11       1   1000061  30120231 2019-05-06  13:07:11        0\n",
       "22       1   1000101  30120231 2019-05-06  13:07:11        0\n",
       "24       1   1000104  30120231 2019-05-06  13:07:11        0\n",
       "25       1   1000106  30120231 2019-05-06  13:07:11        0"
      ]
     },
     "metadata": {},
     "output_type": "display_data"
    }
   ],
   "source": [
    "df_p1 = df_Cla0[df_Cla0[\"ProNum\"]==1]\n",
    "df_p2 = df_Cla0[df_Cla0[\"ProNum\"]==2]\n",
    "df_p3 = df_Cla0[df_Cla0[\"ProNum\"]==3]\n",
    "df_p4 = df_Cla0[df_Cla0[\"ProNum\"]==4]\n",
    "df_p5 = df_Cla0[df_Cla0[\"ProNum\"]==5]\n",
    "display(df_p1.head(5))"
   ]
  },
  {
   "cell_type": "markdown",
   "metadata": {},
   "source": [
    "---\n",
    "## ImpDateでグルーピングし、グルーピングされた行数(count())を保持"
   ]
  },
  {
   "cell_type": "code",
   "execution_count": 41,
   "metadata": {},
   "outputs": [
    {
     "data": {
      "text/html": [
       "<div>\n",
       "<style scoped>\n",
       "    .dataframe tbody tr th:only-of-type {\n",
       "        vertical-align: middle;\n",
       "    }\n",
       "\n",
       "    .dataframe tbody tr th {\n",
       "        vertical-align: top;\n",
       "    }\n",
       "\n",
       "    .dataframe thead th {\n",
       "        text-align: right;\n",
       "    }\n",
       "</style>\n",
       "<table border=\"1\" class=\"dataframe\">\n",
       "  <thead>\n",
       "    <tr style=\"text-align: right;\">\n",
       "      <th></th>\n",
       "      <th>ProNum</th>\n",
       "      <th>AnsShNum</th>\n",
       "      <th>SchCode</th>\n",
       "      <th>ImpTime</th>\n",
       "      <th>ClaCode</th>\n",
       "    </tr>\n",
       "    <tr>\n",
       "      <th>ImpDate</th>\n",
       "      <th></th>\n",
       "      <th></th>\n",
       "      <th></th>\n",
       "      <th></th>\n",
       "      <th></th>\n",
       "    </tr>\n",
       "  </thead>\n",
       "  <tbody>\n",
       "    <tr>\n",
       "      <th>2019-04-23</th>\n",
       "      <td>126</td>\n",
       "      <td>126</td>\n",
       "      <td>126</td>\n",
       "      <td>126</td>\n",
       "      <td>126</td>\n",
       "    </tr>\n",
       "    <tr>\n",
       "      <th>2019-04-24</th>\n",
       "      <td>203</td>\n",
       "      <td>203</td>\n",
       "      <td>203</td>\n",
       "      <td>203</td>\n",
       "      <td>203</td>\n",
       "    </tr>\n",
       "    <tr>\n",
       "      <th>2019-04-25</th>\n",
       "      <td>332</td>\n",
       "      <td>332</td>\n",
       "      <td>332</td>\n",
       "      <td>332</td>\n",
       "      <td>332</td>\n",
       "    </tr>\n",
       "    <tr>\n",
       "      <th>2019-04-26</th>\n",
       "      <td>489</td>\n",
       "      <td>489</td>\n",
       "      <td>489</td>\n",
       "      <td>489</td>\n",
       "      <td>489</td>\n",
       "    </tr>\n",
       "    <tr>\n",
       "      <th>2019-04-27</th>\n",
       "      <td>323</td>\n",
       "      <td>323</td>\n",
       "      <td>323</td>\n",
       "      <td>323</td>\n",
       "      <td>323</td>\n",
       "    </tr>\n",
       "  </tbody>\n",
       "</table>\n",
       "</div>"
      ],
      "text/plain": [
       "            ProNum  AnsShNum  SchCode  ImpTime  ClaCode\n",
       "ImpDate                                                \n",
       "2019-04-23     126       126      126      126      126\n",
       "2019-04-24     203       203      203      203      203\n",
       "2019-04-25     332       332      332      332      332\n",
       "2019-04-26     489       489      489      489      489\n",
       "2019-04-27     323       323      323      323      323"
      ]
     },
     "metadata": {},
     "output_type": "display_data"
    }
   ],
   "source": [
    "df_p1_byDate = df_p1.groupby([\"ImpDate\"]).count()\n",
    "df_p2_byDate = df_p2.groupby([\"ImpDate\"]).count()\n",
    "df_p3_byDate = df_p3.groupby([\"ImpDate\"]).count()\n",
    "df_p4_byDate = df_p4.groupby([\"ImpDate\"]).count()\n",
    "df_p5_byDate = df_p5.groupby([\"ImpDate\"]).count()\n",
    "display(df_p1_byDate.head(5))"
   ]
  },
  {
   "cell_type": "markdown",
   "metadata": {},
   "source": [
    "---\n",
    "## AnsShNumの値だけにし、ヘッダを変更"
   ]
  },
  {
   "cell_type": "code",
   "execution_count": 42,
   "metadata": {},
   "outputs": [
    {
     "data": {
      "text/html": [
       "<div>\n",
       "<style scoped>\n",
       "    .dataframe tbody tr th:only-of-type {\n",
       "        vertical-align: middle;\n",
       "    }\n",
       "\n",
       "    .dataframe tbody tr th {\n",
       "        vertical-align: top;\n",
       "    }\n",
       "\n",
       "    .dataframe thead th {\n",
       "        text-align: right;\n",
       "    }\n",
       "</style>\n",
       "<table border=\"1\" class=\"dataframe\">\n",
       "  <thead>\n",
       "    <tr style=\"text-align: right;\">\n",
       "      <th></th>\n",
       "      <th>Pro1-1</th>\n",
       "    </tr>\n",
       "    <tr>\n",
       "      <th>ImpDate</th>\n",
       "      <th></th>\n",
       "    </tr>\n",
       "  </thead>\n",
       "  <tbody>\n",
       "    <tr>\n",
       "      <th>2019-04-23</th>\n",
       "      <td>126</td>\n",
       "    </tr>\n",
       "    <tr>\n",
       "      <th>2019-04-24</th>\n",
       "      <td>203</td>\n",
       "    </tr>\n",
       "    <tr>\n",
       "      <th>2019-04-25</th>\n",
       "      <td>332</td>\n",
       "    </tr>\n",
       "    <tr>\n",
       "      <th>2019-04-26</th>\n",
       "      <td>489</td>\n",
       "    </tr>\n",
       "    <tr>\n",
       "      <th>2019-04-27</th>\n",
       "      <td>323</td>\n",
       "    </tr>\n",
       "  </tbody>\n",
       "</table>\n",
       "</div>"
      ],
      "text/plain": [
       "            Pro1-1\n",
       "ImpDate           \n",
       "2019-04-23     126\n",
       "2019-04-24     203\n",
       "2019-04-25     332\n",
       "2019-04-26     489\n",
       "2019-04-27     323"
      ]
     },
     "metadata": {},
     "output_type": "display_data"
    }
   ],
   "source": [
    "df_p1_byDate_count = df_p1_byDate[[\"AnsShNum\"]].rename(columns={\"AnsShNum\": \"Pro1-1\"})\n",
    "df_p2_byDate_count = df_p2_byDate[[\"AnsShNum\"]].rename(columns={\"AnsShNum\": \"Pro1-2\"})\n",
    "df_p3_byDate_count = df_p3_byDate[[\"AnsShNum\"]].rename(columns={\"AnsShNum\": \"Pro1-3\"})\n",
    "df_p4_byDate_count = df_p4_byDate[[\"AnsShNum\"]].rename(columns={\"AnsShNum\": \"Pro2\"})\n",
    "df_p5_byDate_count = df_p5_byDate[[\"AnsShNum\"]].rename(columns={\"AnsShNum\": \"Pro3\"})\n",
    "display(df_p1_byDate_count.head(5))"
   ]
  },
  {
   "cell_type": "markdown",
   "metadata": {},
   "source": [
    "---\n",
    "## DataFrameを連結"
   ]
  },
  {
   "cell_type": "code",
   "execution_count": 43,
   "metadata": {},
   "outputs": [
    {
     "data": {
      "text/html": [
       "<div>\n",
       "<style scoped>\n",
       "    .dataframe tbody tr th:only-of-type {\n",
       "        vertical-align: middle;\n",
       "    }\n",
       "\n",
       "    .dataframe tbody tr th {\n",
       "        vertical-align: top;\n",
       "    }\n",
       "\n",
       "    .dataframe thead th {\n",
       "        text-align: right;\n",
       "    }\n",
       "</style>\n",
       "<table border=\"1\" class=\"dataframe\">\n",
       "  <thead>\n",
       "    <tr style=\"text-align: right;\">\n",
       "      <th></th>\n",
       "      <th>Pro1-1</th>\n",
       "      <th>Pro1-2</th>\n",
       "      <th>Pro1-3</th>\n",
       "      <th>Pro2</th>\n",
       "      <th>Pro3</th>\n",
       "    </tr>\n",
       "    <tr>\n",
       "      <th>ImpDate</th>\n",
       "      <th></th>\n",
       "      <th></th>\n",
       "      <th></th>\n",
       "      <th></th>\n",
       "      <th></th>\n",
       "    </tr>\n",
       "  </thead>\n",
       "  <tbody>\n",
       "    <tr>\n",
       "      <th>2019-04-23</th>\n",
       "      <td>126.0</td>\n",
       "      <td>1.0</td>\n",
       "      <td>NaN</td>\n",
       "      <td>28.0</td>\n",
       "      <td>NaN</td>\n",
       "    </tr>\n",
       "    <tr>\n",
       "      <th>2019-04-24</th>\n",
       "      <td>203.0</td>\n",
       "      <td>1.0</td>\n",
       "      <td>NaN</td>\n",
       "      <td>NaN</td>\n",
       "      <td>NaN</td>\n",
       "    </tr>\n",
       "    <tr>\n",
       "      <th>2019-04-25</th>\n",
       "      <td>332.0</td>\n",
       "      <td>3.0</td>\n",
       "      <td>NaN</td>\n",
       "      <td>71.0</td>\n",
       "      <td>80.0</td>\n",
       "    </tr>\n",
       "    <tr>\n",
       "      <th>2019-04-26</th>\n",
       "      <td>489.0</td>\n",
       "      <td>3.0</td>\n",
       "      <td>NaN</td>\n",
       "      <td>15.0</td>\n",
       "      <td>58.0</td>\n",
       "    </tr>\n",
       "    <tr>\n",
       "      <th>2019-04-27</th>\n",
       "      <td>323.0</td>\n",
       "      <td>5.0</td>\n",
       "      <td>NaN</td>\n",
       "      <td>4.0</td>\n",
       "      <td>73.0</td>\n",
       "    </tr>\n",
       "  </tbody>\n",
       "</table>\n",
       "</div>"
      ],
      "text/plain": [
       "            Pro1-1  Pro1-2  Pro1-3  Pro2  Pro3\n",
       "ImpDate                                       \n",
       "2019-04-23   126.0     1.0     NaN  28.0   NaN\n",
       "2019-04-24   203.0     1.0     NaN   NaN   NaN\n",
       "2019-04-25   332.0     3.0     NaN  71.0  80.0\n",
       "2019-04-26   489.0     3.0     NaN  15.0  58.0\n",
       "2019-04-27   323.0     5.0     NaN   4.0  73.0"
      ]
     },
     "metadata": {},
     "output_type": "display_data"
    }
   ],
   "source": [
    "df_result = pd.concat([df_p1_byDate_count, df_p2_byDate_count], axis=1, sort=False)\n",
    "df_result = pd.concat([df_result, df_p3_byDate_count], axis=1, sort=False)\n",
    "df_result = pd.concat([df_result, df_p4_byDate_count], axis=1, sort=False)\n",
    "df_result = pd.concat([df_result, df_p5_byDate_count], axis=1, sort=False)\n",
    "display(df_result.head(5))"
   ]
  },
  {
   "cell_type": "code",
   "execution_count": 49,
   "metadata": {},
   "outputs": [
    {
     "ename": "NameError",
     "evalue": "name 'DateFormatter' is not defined",
     "output_type": "error",
     "traceback": [
      "\u001b[1;31m---------------------------------------------------------------------------\u001b[0m",
      "\u001b[1;31mNameError\u001b[0m                                 Traceback (most recent call last)",
      "\u001b[1;32m<ipython-input-49-3c5b2e3bec80>\u001b[0m in \u001b[0;36m<module>\u001b[1;34m\u001b[0m\n\u001b[0;32m      4\u001b[0m \u001b[0max\u001b[0m\u001b[1;33m.\u001b[0m\u001b[0mset_xlabel\u001b[0m\u001b[1;33m(\u001b[0m\u001b[1;34m\"Imprt date.\"\u001b[0m\u001b[1;33m,\u001b[0m \u001b[0mfontsize\u001b[0m\u001b[1;33m=\u001b[0m\u001b[1;36m12\u001b[0m\u001b[1;33m)\u001b[0m\u001b[1;33m\u001b[0m\u001b[1;33m\u001b[0m\u001b[0m\n\u001b[0;32m      5\u001b[0m \u001b[0max\u001b[0m\u001b[1;33m.\u001b[0m\u001b[0mset_ylabel\u001b[0m\u001b[1;33m(\u001b[0m\u001b[1;34m\"Number of items.\"\u001b[0m\u001b[1;33m,\u001b[0m \u001b[0mfontsize\u001b[0m\u001b[1;33m=\u001b[0m\u001b[1;36m12\u001b[0m\u001b[1;33m)\u001b[0m\u001b[1;33m\u001b[0m\u001b[1;33m\u001b[0m\u001b[0m\n\u001b[1;32m----> 6\u001b[1;33m \u001b[0max\u001b[0m\u001b[1;33m.\u001b[0m\u001b[0mxaxis\u001b[0m\u001b[1;33m.\u001b[0m\u001b[0mset_major_formatter\u001b[0m\u001b[1;33m(\u001b[0m\u001b[0mDateFormatter\u001b[0m\u001b[1;33m(\u001b[0m\u001b[1;34m\"%m-%d\"\u001b[0m\u001b[1;33m)\u001b[0m\u001b[1;33m)\u001b[0m\u001b[1;33m\u001b[0m\u001b[1;33m\u001b[0m\u001b[0m\n\u001b[0m\u001b[0;32m      7\u001b[0m \u001b[0mplt\u001b[0m\u001b[1;33m.\u001b[0m\u001b[0mshow\u001b[0m\u001b[1;33m(\u001b[0m\u001b[1;33m)\u001b[0m\u001b[1;33m\u001b[0m\u001b[1;33m\u001b[0m\u001b[0m\n",
      "\u001b[1;31mNameError\u001b[0m: name 'DateFormatter' is not defined"
     ]
    },
    {
     "data": {
      "image/png": "[encoded data removed]",
      "text/plain": [
       "<Figure size 1080x720 with 1 Axes>"
      ]
     },
     "metadata": {
      "needs_background": "light"
     },
     "output_type": "display_data"
    }
   ],
   "source": [
    "import matplotlib.pyplot as plt\n",
    "import matplotlib.dates as mdates\n",
    "ax = df_result.plot(kind='bar', title =\"Import \", figsize=(15, 10), legend=True, fontsize=12)\n",
    "ax.set_xlabel(\"Imprt date.\", fontsize=12)\n",
    "ax.set_ylabel(\"Number of items.\", fontsize=12)\n",
    "ax.xaxis.set_major_formatter(DateFormatter(\"%m-%d\"))\n",
    "\n",
    "plt.show()"
   ]
  },
  {
   "cell_type": "code",
   "execution_count": null,
   "metadata": {},
   "outputs": [],
   "source": []
  }
 ],
 "metadata": {
  "kernelspec": {
   "display_name": "Python 3",
   "language": "python",
   "name": "python3"
  },
  "language_info": {
   "codemirror_mode": {
    "name": "ipython",
    "version": 3
   },
   "file_extension": ".py",
   "mimetype": "text/x-python",
   "name": "python",
   "nbconvert_exporter": "python",
   "pygments_lexer": "ipython3",
   "version": "3.7.3"
  }
 },
 "nbformat": 4,
 "nbformat_minor": 2
}
