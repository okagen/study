{
 "cells": [
  {
   "cell_type": "markdown",
   "metadata": {},
   "source": [
    "---\n",
    "## CSVファイル読み込み DataFrameに保存"
   ]
  },
  {
   "cell_type": "code",
   "execution_count": 1,
   "metadata": {},
   "outputs": [
    {
     "data": {
      "text/html": [
       "<div>\n",
       "<style scoped>\n",
       "    .dataframe tbody tr th:only-of-type {\n",
       "        vertical-align: middle;\n",
       "    }\n",
       "\n",
       "    .dataframe tbody tr th {\n",
       "        vertical-align: top;\n",
       "    }\n",
       "\n",
       "    .dataframe thead th {\n",
       "        text-align: right;\n",
       "    }\n",
       "</style>\n",
       "<table border=\"1\" class=\"dataframe\">\n",
       "  <thead>\n",
       "    <tr style=\"text-align: right;\">\n",
       "      <th></th>\n",
       "      <th>ProNum</th>\n",
       "      <th>AnsShNum</th>\n",
       "      <th>SchCode</th>\n",
       "      <th>ImpDate</th>\n",
       "      <th>ImpTime</th>\n",
       "      <th>ClaCode</th>\n",
       "    </tr>\n",
       "  </thead>\n",
       "  <tbody>\n",
       "    <tr>\n",
       "      <th>0</th>\n",
       "      <td>1</td>\n",
       "      <td>1000043</td>\n",
       "      <td>30120231</td>\n",
       "      <td>2019-05-06</td>\n",
       "      <td>13:07:11</td>\n",
       "      <td>0</td>\n",
       "    </tr>\n",
       "    <tr>\n",
       "      <th>1</th>\n",
       "      <td>4</td>\n",
       "      <td>1000043</td>\n",
       "      <td>30120231</td>\n",
       "      <td>2019-05-08</td>\n",
       "      <td>13:23:57</td>\n",
       "      <td>0</td>\n",
       "    </tr>\n",
       "    <tr>\n",
       "      <th>2</th>\n",
       "      <td>4</td>\n",
       "      <td>1000055</td>\n",
       "      <td>30120231</td>\n",
       "      <td>2019-05-08</td>\n",
       "      <td>13:23:57</td>\n",
       "      <td>0</td>\n",
       "    </tr>\n",
       "    <tr>\n",
       "      <th>3</th>\n",
       "      <td>2</td>\n",
       "      <td>1000055</td>\n",
       "      <td>30120231</td>\n",
       "      <td>2019-05-07</td>\n",
       "      <td>13:05:52</td>\n",
       "      <td>0</td>\n",
       "    </tr>\n",
       "    <tr>\n",
       "      <th>4</th>\n",
       "      <td>2</td>\n",
       "      <td>1000057</td>\n",
       "      <td>30120231</td>\n",
       "      <td>2019-05-07</td>\n",
       "      <td>13:05:52</td>\n",
       "      <td>0</td>\n",
       "    </tr>\n",
       "  </tbody>\n",
       "</table>\n",
       "</div>"
      ],
      "text/plain": [
       "   ProNum  AnsShNum   SchCode     ImpDate   ImpTime  ClaCode\n",
       "0       1   1000043  30120231  2019-05-06  13:07:11        0\n",
       "1       4   1000043  30120231  2019-05-08  13:23:57        0\n",
       "2       4   1000055  30120231  2019-05-08  13:23:57        0\n",
       "3       2   1000055  30120231  2019-05-07  13:05:52        0\n",
       "4       2   1000057  30120231  2019-05-07  13:05:52        0"
      ]
     },
     "metadata": {},
     "output_type": "display_data"
    }
   ],
   "source": [
    "import pandas as pd\n",
    "import numpy as np\n",
    "import matplotlib.pyplot as plt\n",
    "\n",
    "csv_encoding = 'Shift_JISx0213'\n",
    "inputFile = \".\\\\Data\\\\05_DateTimeData.csv\"\n",
    "df = pd.read_csv(inputFile,index_col=False, encoding=csv_encoding)\n",
    "display(df.head(5))"
   ]
  },
  {
   "cell_type": "markdown",
   "metadata": {},
   "source": [
    "---\n",
    "## DataFrame内の値を調整\n",
    "### ImpDate列の値を、右から5文字だけにする"
   ]
  },
  {
   "cell_type": "code",
   "execution_count": 2,
   "metadata": {},
   "outputs": [
    {
     "data": {
      "text/html": [
       "<div>\n",
       "<style scoped>\n",
       "    .dataframe tbody tr th:only-of-type {\n",
       "        vertical-align: middle;\n",
       "    }\n",
       "\n",
       "    .dataframe tbody tr th {\n",
       "        vertical-align: top;\n",
       "    }\n",
       "\n",
       "    .dataframe thead th {\n",
       "        text-align: right;\n",
       "    }\n",
       "</style>\n",
       "<table border=\"1\" class=\"dataframe\">\n",
       "  <thead>\n",
       "    <tr style=\"text-align: right;\">\n",
       "      <th></th>\n",
       "      <th>ProNum</th>\n",
       "      <th>AnsShNum</th>\n",
       "      <th>SchCode</th>\n",
       "      <th>ImpDate</th>\n",
       "      <th>ImpTime</th>\n",
       "      <th>ClaCode</th>\n",
       "    </tr>\n",
       "  </thead>\n",
       "  <tbody>\n",
       "    <tr>\n",
       "      <th>0</th>\n",
       "      <td>1</td>\n",
       "      <td>1000043</td>\n",
       "      <td>30120231</td>\n",
       "      <td>05-06</td>\n",
       "      <td>13:07:11</td>\n",
       "      <td>0</td>\n",
       "    </tr>\n",
       "    <tr>\n",
       "      <th>1</th>\n",
       "      <td>4</td>\n",
       "      <td>1000043</td>\n",
       "      <td>30120231</td>\n",
       "      <td>05-08</td>\n",
       "      <td>13:23:57</td>\n",
       "      <td>0</td>\n",
       "    </tr>\n",
       "    <tr>\n",
       "      <th>2</th>\n",
       "      <td>4</td>\n",
       "      <td>1000055</td>\n",
       "      <td>30120231</td>\n",
       "      <td>05-08</td>\n",
       "      <td>13:23:57</td>\n",
       "      <td>0</td>\n",
       "    </tr>\n",
       "    <tr>\n",
       "      <th>3</th>\n",
       "      <td>2</td>\n",
       "      <td>1000055</td>\n",
       "      <td>30120231</td>\n",
       "      <td>05-07</td>\n",
       "      <td>13:05:52</td>\n",
       "      <td>0</td>\n",
       "    </tr>\n",
       "    <tr>\n",
       "      <th>4</th>\n",
       "      <td>2</td>\n",
       "      <td>1000057</td>\n",
       "      <td>30120231</td>\n",
       "      <td>05-07</td>\n",
       "      <td>13:05:52</td>\n",
       "      <td>0</td>\n",
       "    </tr>\n",
       "  </tbody>\n",
       "</table>\n",
       "</div>"
      ],
      "text/plain": [
       "   ProNum  AnsShNum   SchCode ImpDate   ImpTime  ClaCode\n",
       "0       1   1000043  30120231   05-06  13:07:11        0\n",
       "1       4   1000043  30120231   05-08  13:23:57        0\n",
       "2       4   1000055  30120231   05-08  13:23:57        0\n",
       "3       2   1000055  30120231   05-07  13:05:52        0\n",
       "4       2   1000057  30120231   05-07  13:05:52        0"
      ]
     },
     "metadata": {},
     "output_type": "display_data"
    },
    {
     "data": {
      "text/plain": [
       "(312372, 6)"
      ]
     },
     "metadata": {},
     "output_type": "display_data"
    }
   ],
   "source": [
    "df['ImpDate'] = df['ImpDate'].map(lambda x : x[-5:])\n",
    "display(df.head(5))\n",
    "display(df.shape)"
   ]
  },
  {
   "cell_type": "markdown",
   "metadata": {},
   "source": [
    "### ClaCodeには1と0が存在するので、0だけにする"
   ]
  },
  {
   "cell_type": "code",
   "execution_count": 3,
   "metadata": {},
   "outputs": [
    {
     "data": {
      "text/plain": [
       "(292904, 6)"
      ]
     },
     "metadata": {},
     "output_type": "display_data"
    }
   ],
   "source": [
    "df_Cla0 = df[df[\"ClaCode\"] ==0]\n",
    "display(df_Cla0.shape)"
   ]
  },
  {
   "cell_type": "markdown",
   "metadata": {},
   "source": [
    "---\n",
    "## ProNum(1～5)の値でDataFrameを分割"
   ]
  },
  {
   "cell_type": "code",
   "execution_count": 4,
   "metadata": {},
   "outputs": [
    {
     "data": {
      "text/html": [
       "<div>\n",
       "<style scoped>\n",
       "    .dataframe tbody tr th:only-of-type {\n",
       "        vertical-align: middle;\n",
       "    }\n",
       "\n",
       "    .dataframe tbody tr th {\n",
       "        vertical-align: top;\n",
       "    }\n",
       "\n",
       "    .dataframe thead th {\n",
       "        text-align: right;\n",
       "    }\n",
       "</style>\n",
       "<table border=\"1\" class=\"dataframe\">\n",
       "  <thead>\n",
       "    <tr style=\"text-align: right;\">\n",
       "      <th></th>\n",
       "      <th>ProNum</th>\n",
       "      <th>AnsShNum</th>\n",
       "      <th>SchCode</th>\n",
       "      <th>ImpDate</th>\n",
       "      <th>ImpTime</th>\n",
       "      <th>ClaCode</th>\n",
       "    </tr>\n",
       "  </thead>\n",
       "  <tbody>\n",
       "    <tr>\n",
       "      <th>0</th>\n",
       "      <td>1</td>\n",
       "      <td>1000043</td>\n",
       "      <td>30120231</td>\n",
       "      <td>05-06</td>\n",
       "      <td>13:07:11</td>\n",
       "      <td>0</td>\n",
       "    </tr>\n",
       "    <tr>\n",
       "      <th>11</th>\n",
       "      <td>1</td>\n",
       "      <td>1000061</td>\n",
       "      <td>30120231</td>\n",
       "      <td>05-06</td>\n",
       "      <td>13:07:11</td>\n",
       "      <td>0</td>\n",
       "    </tr>\n",
       "    <tr>\n",
       "      <th>22</th>\n",
       "      <td>1</td>\n",
       "      <td>1000101</td>\n",
       "      <td>30120231</td>\n",
       "      <td>05-06</td>\n",
       "      <td>13:07:11</td>\n",
       "      <td>0</td>\n",
       "    </tr>\n",
       "    <tr>\n",
       "      <th>24</th>\n",
       "      <td>1</td>\n",
       "      <td>1000104</td>\n",
       "      <td>30120231</td>\n",
       "      <td>05-06</td>\n",
       "      <td>13:07:11</td>\n",
       "      <td>0</td>\n",
       "    </tr>\n",
       "    <tr>\n",
       "      <th>25</th>\n",
       "      <td>1</td>\n",
       "      <td>1000106</td>\n",
       "      <td>30120231</td>\n",
       "      <td>05-06</td>\n",
       "      <td>13:07:11</td>\n",
       "      <td>0</td>\n",
       "    </tr>\n",
       "  </tbody>\n",
       "</table>\n",
       "</div>"
      ],
      "text/plain": [
       "    ProNum  AnsShNum   SchCode ImpDate   ImpTime  ClaCode\n",
       "0        1   1000043  30120231   05-06  13:07:11        0\n",
       "11       1   1000061  30120231   05-06  13:07:11        0\n",
       "22       1   1000101  30120231   05-06  13:07:11        0\n",
       "24       1   1000104  30120231   05-06  13:07:11        0\n",
       "25       1   1000106  30120231   05-06  13:07:11        0"
      ]
     },
     "metadata": {},
     "output_type": "display_data"
    }
   ],
   "source": [
    "df_p1 = df_Cla0[df_Cla0[\"ProNum\"]==1]\n",
    "df_p2 = df_Cla0[df_Cla0[\"ProNum\"]==2]\n",
    "df_p3 = df_Cla0[df_Cla0[\"ProNum\"]==3]\n",
    "df_p4 = df_Cla0[df_Cla0[\"ProNum\"]==4]\n",
    "df_p5 = df_Cla0[df_Cla0[\"ProNum\"]==5]\n",
    "display(df_p1.head(5))"
   ]
  },
  {
   "cell_type": "markdown",
   "metadata": {},
   "source": [
    "---\n",
    "## ImpDateでグルーピングし、グルーピングされた行数(count())を保持"
   ]
  },
  {
   "cell_type": "code",
   "execution_count": 5,
   "metadata": {},
   "outputs": [
    {
     "data": {
      "text/html": [
       "<div>\n",
       "<style scoped>\n",
       "    .dataframe tbody tr th:only-of-type {\n",
       "        vertical-align: middle;\n",
       "    }\n",
       "\n",
       "    .dataframe tbody tr th {\n",
       "        vertical-align: top;\n",
       "    }\n",
       "\n",
       "    .dataframe thead th {\n",
       "        text-align: right;\n",
       "    }\n",
       "</style>\n",
       "<table border=\"1\" class=\"dataframe\">\n",
       "  <thead>\n",
       "    <tr style=\"text-align: right;\">\n",
       "      <th></th>\n",
       "      <th>ProNum</th>\n",
       "      <th>AnsShNum</th>\n",
       "      <th>SchCode</th>\n",
       "      <th>ImpTime</th>\n",
       "      <th>ClaCode</th>\n",
       "    </tr>\n",
       "    <tr>\n",
       "      <th>ImpDate</th>\n",
       "      <th></th>\n",
       "      <th></th>\n",
       "      <th></th>\n",
       "      <th></th>\n",
       "      <th></th>\n",
       "    </tr>\n",
       "  </thead>\n",
       "  <tbody>\n",
       "    <tr>\n",
       "      <th>04-23</th>\n",
       "      <td>126</td>\n",
       "      <td>126</td>\n",
       "      <td>126</td>\n",
       "      <td>126</td>\n",
       "      <td>126</td>\n",
       "    </tr>\n",
       "    <tr>\n",
       "      <th>04-24</th>\n",
       "      <td>203</td>\n",
       "      <td>203</td>\n",
       "      <td>203</td>\n",
       "      <td>203</td>\n",
       "      <td>203</td>\n",
       "    </tr>\n",
       "    <tr>\n",
       "      <th>04-25</th>\n",
       "      <td>332</td>\n",
       "      <td>332</td>\n",
       "      <td>332</td>\n",
       "      <td>332</td>\n",
       "      <td>332</td>\n",
       "    </tr>\n",
       "    <tr>\n",
       "      <th>04-26</th>\n",
       "      <td>489</td>\n",
       "      <td>489</td>\n",
       "      <td>489</td>\n",
       "      <td>489</td>\n",
       "      <td>489</td>\n",
       "    </tr>\n",
       "    <tr>\n",
       "      <th>04-27</th>\n",
       "      <td>323</td>\n",
       "      <td>323</td>\n",
       "      <td>323</td>\n",
       "      <td>323</td>\n",
       "      <td>323</td>\n",
       "    </tr>\n",
       "  </tbody>\n",
       "</table>\n",
       "</div>"
      ],
      "text/plain": [
       "         ProNum  AnsShNum  SchCode  ImpTime  ClaCode\n",
       "ImpDate                                             \n",
       "04-23       126       126      126      126      126\n",
       "04-24       203       203      203      203      203\n",
       "04-25       332       332      332      332      332\n",
       "04-26       489       489      489      489      489\n",
       "04-27       323       323      323      323      323"
      ]
     },
     "metadata": {},
     "output_type": "display_data"
    }
   ],
   "source": [
    "df_p1_byDate = df_p1.groupby([\"ImpDate\"]).count()\n",
    "df_p2_byDate = df_p2.groupby([\"ImpDate\"]).count()\n",
    "df_p3_byDate = df_p3.groupby([\"ImpDate\"]).count()\n",
    "df_p4_byDate = df_p4.groupby([\"ImpDate\"]).count()\n",
    "df_p5_byDate = df_p5.groupby([\"ImpDate\"]).count()\n",
    "display(df_p1_byDate.head(5))"
   ]
  },
  {
   "cell_type": "markdown",
   "metadata": {},
   "source": [
    "---\n",
    "## AnsShNumの値だけにし、ヘッダを変更"
   ]
  },
  {
   "cell_type": "code",
   "execution_count": 9,
   "metadata": {},
   "outputs": [
    {
     "data": {
      "text/html": [
       "<div>\n",
       "<style scoped>\n",
       "    .dataframe tbody tr th:only-of-type {\n",
       "        vertical-align: middle;\n",
       "    }\n",
       "\n",
       "    .dataframe tbody tr th {\n",
       "        vertical-align: top;\n",
       "    }\n",
       "\n",
       "    .dataframe thead th {\n",
       "        text-align: right;\n",
       "    }\n",
       "</style>\n",
       "<table border=\"1\" class=\"dataframe\">\n",
       "  <thead>\n",
       "    <tr style=\"text-align: right;\">\n",
       "      <th></th>\n",
       "      <th>Pro1-3</th>\n",
       "    </tr>\n",
       "    <tr>\n",
       "      <th>ImpDate</th>\n",
       "      <th></th>\n",
       "    </tr>\n",
       "  </thead>\n",
       "  <tbody>\n",
       "    <tr>\n",
       "      <th>05-01</th>\n",
       "      <td>11</td>\n",
       "    </tr>\n",
       "    <tr>\n",
       "      <th>05-02</th>\n",
       "      <td>15</td>\n",
       "    </tr>\n",
       "    <tr>\n",
       "      <th>05-03</th>\n",
       "      <td>59</td>\n",
       "    </tr>\n",
       "    <tr>\n",
       "      <th>05-04</th>\n",
       "      <td>252</td>\n",
       "    </tr>\n",
       "    <tr>\n",
       "      <th>05-06</th>\n",
       "      <td>720</td>\n",
       "    </tr>\n",
       "  </tbody>\n",
       "</table>\n",
       "</div>"
      ],
      "text/plain": [
       "         Pro1-3\n",
       "ImpDate        \n",
       "05-01        11\n",
       "05-02        15\n",
       "05-03        59\n",
       "05-04       252\n",
       "05-06       720"
      ]
     },
     "metadata": {},
     "output_type": "display_data"
    }
   ],
   "source": [
    "df_p1_byDate_count = df_p1_byDate[[\"AnsShNum\"]].rename(columns={\"AnsShNum\": \"Pro1-1\"})\n",
    "df_p2_byDate_count = df_p2_byDate[[\"AnsShNum\"]].rename(columns={\"AnsShNum\": \"Pro1-2\"})\n",
    "df_p3_byDate_count = df_p3_byDate[[\"AnsShNum\"]].rename(columns={\"AnsShNum\": \"Pro1-3\"})\n",
    "df_p4_byDate_count = df_p4_byDate[[\"AnsShNum\"]].rename(columns={\"AnsShNum\": \"Pro2\"})\n",
    "df_p5_byDate_count = df_p5_byDate[[\"AnsShNum\"]].rename(columns={\"AnsShNum\": \"Pro3\"})\n",
    "display(df_p3_byDate_count.head(5))"
   ]
  },
  {
   "cell_type": "markdown",
   "metadata": {},
   "source": [
    "---\n",
    "## ProNum(1～5)で分けたDataFrameを連結"
   ]
  },
  {
   "cell_type": "code",
   "execution_count": 10,
   "metadata": {},
   "outputs": [
    {
     "data": {
      "text/html": [
       "<div>\n",
       "<style scoped>\n",
       "    .dataframe tbody tr th:only-of-type {\n",
       "        vertical-align: middle;\n",
       "    }\n",
       "\n",
       "    .dataframe tbody tr th {\n",
       "        vertical-align: top;\n",
       "    }\n",
       "\n",
       "    .dataframe thead th {\n",
       "        text-align: right;\n",
       "    }\n",
       "</style>\n",
       "<table border=\"1\" class=\"dataframe\">\n",
       "  <thead>\n",
       "    <tr style=\"text-align: right;\">\n",
       "      <th></th>\n",
       "      <th>Pro1-1</th>\n",
       "      <th>Pro1-2</th>\n",
       "      <th>Pro1-3</th>\n",
       "      <th>Pro2</th>\n",
       "      <th>Pro3</th>\n",
       "    </tr>\n",
       "  </thead>\n",
       "  <tbody>\n",
       "    <tr>\n",
       "      <th>04-23</th>\n",
       "      <td>126</td>\n",
       "      <td>1</td>\n",
       "      <td>0</td>\n",
       "      <td>28</td>\n",
       "      <td>0</td>\n",
       "    </tr>\n",
       "    <tr>\n",
       "      <th>04-24</th>\n",
       "      <td>203</td>\n",
       "      <td>1</td>\n",
       "      <td>0</td>\n",
       "      <td>0</td>\n",
       "      <td>0</td>\n",
       "    </tr>\n",
       "    <tr>\n",
       "      <th>04-25</th>\n",
       "      <td>332</td>\n",
       "      <td>3</td>\n",
       "      <td>0</td>\n",
       "      <td>71</td>\n",
       "      <td>80</td>\n",
       "    </tr>\n",
       "    <tr>\n",
       "      <th>04-26</th>\n",
       "      <td>489</td>\n",
       "      <td>3</td>\n",
       "      <td>0</td>\n",
       "      <td>15</td>\n",
       "      <td>58</td>\n",
       "    </tr>\n",
       "    <tr>\n",
       "      <th>04-27</th>\n",
       "      <td>323</td>\n",
       "      <td>5</td>\n",
       "      <td>0</td>\n",
       "      <td>4</td>\n",
       "      <td>73</td>\n",
       "    </tr>\n",
       "  </tbody>\n",
       "</table>\n",
       "</div>"
      ],
      "text/plain": [
       "       Pro1-1  Pro1-2  Pro1-3  Pro2  Pro3\n",
       "04-23     126       1       0    28     0\n",
       "04-24     203       1       0     0     0\n",
       "04-25     332       3       0    71    80\n",
       "04-26     489       3       0    15    58\n",
       "04-27     323       5       0     4    73"
      ]
     },
     "metadata": {},
     "output_type": "display_data"
    }
   ],
   "source": [
    "df_result = pd.concat([df_p1_byDate_count, df_p2_byDate_count], axis=1, sort=False)\n",
    "df_result = pd.concat([df_result, df_p3_byDate_count], axis=1, sort=False)\n",
    "df_result = pd.concat([df_result, df_p4_byDate_count], axis=1, sort=False)\n",
    "df_result = pd.concat([df_result, df_p5_byDate_count], axis=1, sort=False)\n",
    "df_result = df_result.sort_index(ascending=True)\n",
    "df_result = df_result.fillna(0)\n",
    "df_result = df_result.astype('int64')\n",
    "display(df_result.head(5))"
   ]
  },
  {
   "cell_type": "markdown",
   "metadata": {},
   "source": [
    "\n",
    "---\n",
    "## 積み上げ棒グラフにする"
   ]
  },
  {
   "cell_type": "code",
   "execution_count": 11,
   "metadata": {},
   "outputs": [
    {
     "data": {
      "text/plain": [
       "<matplotlib.axes._subplots.AxesSubplot at 0x1efc41bc9b0>"
      ]
     },
     "execution_count": 11,
     "metadata": {},
     "output_type": "execute_result"
    },
    {
     "data": {
      "image/png": "[encoded data removed]",
      "text/plain": [
       "<Figure size 720x360 with 1 Axes>"
      ]
     },
     "metadata": {
      "needs_background": "light"
     },
     "output_type": "display_data"
    }
   ],
   "source": [
    "df_result.plot(kind='bar', stacked=True,  title = \"Number of items.\", figsize=(10, 5), fontsize=12)"
   ]
  },
  {
   "cell_type": "code",
   "execution_count": null,
   "metadata": {},
   "outputs": [],
   "source": []
  }
 ],
 "metadata": {
  "kernelspec": {
   "display_name": "Python 3",
   "language": "python",
   "name": "python3"
  },
  "language_info": {
   "codemirror_mode": {
    "name": "ipython",
    "version": 3
   },
   "file_extension": ".py",
   "mimetype": "text/x-python",
   "name": "python",
   "nbconvert_exporter": "python",
   "pygments_lexer": "ipython3",
   "version": "3.7.3"
  }
 },
 "nbformat": 4,
 "nbformat_minor": 2
}
