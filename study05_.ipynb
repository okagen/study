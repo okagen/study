{
 "cells": [
  {
   "cell_type": "markdown",
   "metadata": {},
   "source": [
    "# pygameを試す\n",
    "  - pygameが動くpython 3.5の仮想環境を構築 `>conda create -n py35 python=3.5`"
   ]
  },
  {
   "cell_type": "markdown",
   "metadata": {},
   "source": [
    "## 1. python3.5の仮想環境構築\n",
    "### 1-1. 現在の環境を確認\n",
    "baseの環境のみが存在している。\n",
    "~~~\n",
    "(base) C:\\***>conda info -e\n",
    "# conda environments:\n",
    "#\n",
    "base                  *  C:\\***\\anaconda3\n",
    "~~~\n",
    "\n",
    "### 1-2. 仮想環境を作成\n",
    "現時点でpygameがpython3.5に対応しているため、python3.5をインストールする。\n",
    "~~~\n",
    "(base) C:\\***>conda create -n py35 python=3.5\n",
    "\n",
    "~~~\n",
    "\n",
    "### 1-3. 仮想環境が出来たか確認\n",
    "py35という名前の仮想環境が出来ている。\\*が付いた方がactiveな環境。\n",
    "~~~\n",
    "(base) C:\\***>conda info -e\n",
    "# conda environments:\n",
    "#\n",
    "base                  *  C:\\***\\anaconda3\n",
    "py35                     C:\\***\\anaconda3\\envs\\py35\n",
    "~~~\n",
    "\n",
    "### 1-4. 仮想環境を切り替え\n",
    "py35をactiveにする。\n",
    "~~~\n",
    "(base) C:\\Users\\10007434>activate py35\n",
    "base                     C:\\***\\anaconda3\n",
    "py35                  *  C:\\***\\anaconda3\\envs\\py35\n",
    "~~~\n",
    "\n",
    "### 1-5. py35の仮想環境を削除する場合。\n",
    "一旦対象をdeactivate。（baseをacctivate）し、ターミナルを再起動する。その後、py35の削除処理を行う。\n",
    "~~~\n",
    "(py35) C:\\***>conda.bat activate base\n",
    "\n",
    "(base) C:\\***>conda info -e\n",
    "# conda environments:\n",
    "#\n",
    "base                  *  C:\\***\\anaconda3\n",
    "py35                     C:\\***\\anaconda3\\envs\\py35\n",
    "\n",
    "(base) C:\\***>conda remove -n py35 --all\n",
    "~~~"
   ]
  },
  {
   "cell_type": "code",
   "execution_count": null,
   "metadata": {},
   "outputs": [],
   "source": []
  }
 ],
 "metadata": {
  "kernelspec": {
   "display_name": "Python 3",
   "language": "python",
   "name": "python3"
  },
  "language_info": {
   "codemirror_mode": {
    "name": "ipython",
    "version": 3
   },
   "file_extension": ".py",
   "mimetype": "text/x-python",
   "name": "python",
   "nbconvert_exporter": "python",
   "pygments_lexer": "ipython3",
   "version": "3.7.3"
  }
 },
 "nbformat": 4,
 "nbformat_minor": 2
}
