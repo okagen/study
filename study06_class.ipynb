{
 "cells": [
  {
   "cell_type": "code",
   "execution_count": 3,
   "metadata": {},
   "outputs": [],
   "source": [
    "import random"
   ]
  },
  {
   "cell_type": "code",
   "execution_count": 4,
   "metadata": {},
   "outputs": [],
   "source": [
    "class RockPaperScissors:\n",
    "    HANDS = {0 : 'Rock', 1 : 'Scissors', 2 : 'Paper'}\n",
    "    JUDGE = {0 : \"DRAW\", 1 : \"LOSE\", 2 : \"WIN\", 99 : \"???\"}\n",
    "\n",
    "    # Initialize RPS.\n",
    "    def __init__(self):\n",
    "        self.y_hand, self.e_hand, self.judgement = 0, 0, 0\n",
    "\n",
    "    def you(self, _y_hand):\n",
    "        self.y_hand = _y_hand\n",
    "\n",
    "    def enemy(self):\n",
    "        self.e_hand = random.randint(0, 2)\n",
    "\n",
    "    def judge(self):\n",
    "        self.judgement = (self.y_hand - self.e_hand + 3) % 3\n",
    "    \n",
    "    def result(self):\n",
    "        r = self.JUDGE.get(self.judgement)\n",
    "        self.result = 'your hand : {0}, enemy\\'s hand : {1}, result : {2}'.format(self.y_hand, self.e_hand, r) \n",
    "        return self.result"
   ]
  },
  {
   "cell_type": "code",
   "execution_count": 5,
   "metadata": {},
   "outputs": [],
   "source": [
    "class GameFlow:\n",
    "    # Initialize game.\n",
    "    def __init__(self):\n",
    "        self.game_mode = GAME_WAIT\n",
    "        self.RPS = RockPaperScissors()\n",
    "        self.result = \"No result.\"\n",
    "    \n",
    "    def play(self, _y_hand):\n",
    "        self.game_mode = GAME_ONGOING\n",
    "        self.RPS.you(_y_hand)\n",
    "        self.RPS.enemy()\n",
    "        self.RPS.judge()\n",
    "        self.result = self.RPS.result()\n",
    "        \n",
    "    def showResult(self):\n",
    "        self.game_mode = GAME_END\n",
    "        return self.result\n",
    "        "
   ]
  },
  {
   "cell_type": "code",
   "execution_count": 6,
   "metadata": {},
   "outputs": [],
   "source": [
    "def game_play(y_hand):\n",
    "    global msg_var\n",
    "    game = GameFlow()\n",
    "    game.play(y_hand)\n",
    "    return game.showResult()"
   ]
  },
  {
   "cell_type": "code",
   "execution_count": 26,
   "metadata": {},
   "outputs": [],
   "source": [
    "from tkinter import *\n",
    "from tkinter import ttk\n",
    "\n",
    "MAIN_WINDOW_SIZE = 500\n",
    "window_width = MAIN_WINDOW_SIZE\n",
    "window_height = MAIN_WINDOW_SIZE\n",
    "GAME_WAIT = 0\n",
    "GAME_ONGOING = 1\n",
    "GAME_END = 2\n",
    "\n",
    "root = Tk()\n",
    "root.title(\"Rock Paper Scissors\")\n",
    "root.minsize(width=window_width, height=window_height)\n",
    "\n",
    "msg = StringVar()\n",
    "\n",
    "# Frame as Widget Container\n",
    "frm = ttk.Frame( root, padding=5)\n",
    "frm.grid()\n",
    "\n",
    "# Rock button\n",
    "def btn_clicked(n):\n",
    "    if n == 0:\n",
    "        button0.state(['pressed'])\n",
    "        button1.state(['!pressed'])\n",
    "    elif n == 1:\n",
    "        button0.state(['!pressed'])\n",
    "        button1.state(['pressed'])\n",
    "    msg.set(game_play(n))\n",
    "\n",
    "button0 = ttk.Button(master=frm, text='Rock', compound=TOP, width=15)\n",
    "button0['command'] = lambda: btn_clicked(0)\n",
    "button0.grid(row=1, rowspan=2, column=1)\n",
    "\n",
    "button1 = ttk.Button(master=frm, text='Paper', compound=TOP, width=15)\n",
    "button1['command'] = lambda: btn_clicked(1)\n",
    "button1.grid(row=1, column=2)\n",
    "\n",
    "button2 = ttk.Button(master=frm, text='Scissors', compound=TOP, width=15)\n",
    "button2['command'] = lambda: btn_clicked(2)\n",
    "button2.grid(row=1, column=3)\n",
    "\n",
    "label1 = ttk.Label(master=frm, textvariable=msg)\n",
    "label1.grid(row=2, column=1, columnspan=3)\n",
    "\n",
    "root.mainloop()"
   ]
  },
  {
   "cell_type": "code",
   "execution_count": null,
   "metadata": {},
   "outputs": [],
   "source": []
  }
 ],
 "metadata": {
  "kernelspec": {
   "display_name": "Python 3",
   "language": "python",
   "name": "python3"
  },
  "language_info": {
   "codemirror_mode": {
    "name": "ipython",
    "version": 3
   },
   "file_extension": ".py",
   "mimetype": "text/x-python",
   "name": "python",
   "nbconvert_exporter": "python",
   "pygments_lexer": "ipython3",
   "version": "3.7.3"
  }
 },
 "nbformat": 4,
 "nbformat_minor": 2
}
