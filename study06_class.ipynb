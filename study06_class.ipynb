{
 "cells": [
  {
   "cell_type": "code",
   "execution_count": 42,
   "metadata": {},
   "outputs": [],
   "source": [
    "import random"
   ]
  },
  {
   "cell_type": "code",
   "execution_count": 43,
   "metadata": {},
   "outputs": [],
   "source": [
    "class RockPaperScissors:\n",
    "    HANDS = {0 : 'Rock', 1 : 'Scissors', 2 : 'Paper'}\n",
    "    JUDGE = {0 : \"DRAW\", 1 : \"LOSE\", 2 : \"WIN\"}\n",
    "    \n",
    "    def enemy(self):\n",
    "        return random.randint(0,2)\n",
    "\n",
    "    def description(self):\n",
    "        print(\"Rock : 0, Scissors : 1, Paper : 2\")\n",
    "\n",
    "    def judge(self, you, enemy):\n",
    "        return (you - enemy + 3) % 3\n",
    "    \n",
    "    def result(self, you, enemy):\n",
    "        j = self.judge(you, enemy)\n",
    "        y = self.HANDS.get(you)\n",
    "        e = self.HANDS.get(enemy)\n",
    "        r = self.JUDGE.get(j)\n",
    "        \n",
    "        ret = 'your hand : {0}, enemy\\'s hand : {1}, result : {2}'.format(y, e, r) \n",
    "        return ret"
   ]
  },
  {
   "cell_type": "code",
   "execution_count": 44,
   "metadata": {},
   "outputs": [],
   "source": [
    "class GameFlow:\n",
    "    def __init__(self, game):\n",
    "        self.game = game\n",
    "    \n",
    "    def play(self):\n",
    "#        you = int(input())\n",
    "        enemy = self.game.enemy()\n",
    "        print('you = ', 1)\n",
    "        print('enemy = ', enemy)\n",
    "        result = self.game.result(1, enemy)\n",
    "        print('result >>> ', result)"
   ]
  },
  {
   "cell_type": "code",
   "execution_count": 45,
   "metadata": {},
   "outputs": [
    {
     "name": "stdout",
     "output_type": "stream",
     "text": [
      "you =  1\n",
      "enemy =  0\n",
      "result >>>  your hand : Scissors, enemy's hand : Rock, result : LOSE\n"
     ]
    }
   ],
   "source": [
    "game = RockPaperScissors()\n",
    "flow = GameFlow(game)\n",
    "flow.play()"
   ]
  },
  {
   "cell_type": "code",
   "execution_count": null,
   "metadata": {},
   "outputs": [],
   "source": []
  }
 ],
 "metadata": {
  "kernelspec": {
   "display_name": "Python 3",
   "language": "python",
   "name": "python3"
  },
  "language_info": {
   "codemirror_mode": {
    "name": "ipython",
    "version": 3
   },
   "file_extension": ".py",
   "mimetype": "text/x-python",
   "name": "python",
   "nbconvert_exporter": "python",
   "pygments_lexer": "ipython3",
   "version": "3.7.3"
  }
 },
 "nbformat": 4,
 "nbformat_minor": 2
}
