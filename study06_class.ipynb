{
 "cells": [
  {
   "cell_type": "code",
   "execution_count": 1,
   "metadata": {},
   "outputs": [],
   "source": [
    "import random"
   ]
  },
  {
   "cell_type": "code",
   "execution_count": 2,
   "metadata": {},
   "outputs": [],
   "source": [
    "class RockPaperScissors:\n",
    "    HANDS = {0 : 'Rock', 1 : 'Scissors', 2 : 'Paper'}\n",
    "    JUDGE = {0 : \"DRAW\", 1 : \"LOSE\", 2 : \"WIN\", 99 : \"???\"}\n",
    "\n",
    "    # Initialize RPS.\n",
    "    def __init__(self):\n",
    "        self.y_hand, self.e_hand, self.judgement = 0, 0, 0\n",
    "\n",
    "    def you(self, _y_hand):\n",
    "        self.y_hand = _y_hand\n",
    "\n",
    "    def enemy(self):\n",
    "        self.e_hand = random.randint(0, 2)\n",
    "\n",
    "    def judge(self):\n",
    "        self.judgement = (self.y_hand - self.e_hand + 3) % 3\n",
    "    \n",
    "    def result(self):\n",
    "        r = self.JUDGE.get(self.judgement)\n",
    "        self.result = 'your hand : {0}, enemy\\'s hand : {1}, result : {2}'.format(self.y_hand, self.e_hand, r) \n",
    "        return self.result"
   ]
  },
  {
   "cell_type": "code",
   "execution_count": 3,
   "metadata": {},
   "outputs": [],
   "source": [
    "class GameFlow:\n",
    "    # Initialize game.\n",
    "    def __init__(self):\n",
    "        self.game_mode = GAME_WAIT\n",
    "        self.RPS = RockPaperScissors()\n",
    "        self.result = \"No result.\"\n",
    "    \n",
    "    def play(self, _y_hand):\n",
    "        self.game_mode = GAME_ONGOING\n",
    "        self.RPS.you(_y_hand)\n",
    "        self.RPS.enemy()\n",
    "        self.RPS.judge()\n",
    "        self.result = self.RPS.result()\n",
    "        \n",
    "    def showResult(self):\n",
    "        self.game_mode = GAME_END\n",
    "        return self.result\n",
    "        "
   ]
  },
  {
   "cell_type": "code",
   "execution_count": 8,
   "metadata": {},
   "outputs": [],
   "source": [
    "def game_play(y_hand):\n",
    "    global msg_var\n",
    "    game = GameFlow()\n",
    "    game.play(y_hand)\n",
    "    #msg_var.set(game.result)\n",
    "    print(game.result)"
   ]
  },
  {
   "cell_type": "code",
   "execution_count": 10,
   "metadata": {},
   "outputs": [
    {
     "name": "stdout",
     "output_type": "stream",
     "text": [
      "your hand : 0, enemy's hand : 1, result : WIN\n",
      "your hand : 1, enemy's hand : 0, result : LOSE\n",
      "your hand : 2, enemy's hand : 1, result : LOSE\n"
     ]
    }
   ],
   "source": [
    "import tkinter\n",
    "\n",
    "BOARD_PX_SIZE = 500\n",
    "window_width = BOARD_PX_SIZE\n",
    "window_height = BOARD_PX_SIZE\n",
    "GAME_WAIT = 0\n",
    "GAME_ONGOING = 1\n",
    "GAME_END = 2\n",
    "\n",
    "root = tkinter.Tk()\n",
    "root.title(\"Rock Paper Scissors\")\n",
    "root.geometry(str(window_width) + \"x\" + str(window_height))    \n",
    "\n",
    "# Player's button.\n",
    "button_Rock = tkinter.Button(root, text = \"Rock\", width=15, command=game_play(0))\n",
    "button_Rock.place(x = 50, y = 20)\n",
    "\n",
    "button_Scissors = tkinter.Button(root, text = \"Scissors\", width=15, command=game_play(1))\n",
    "button_Scissors.place(x = 50, y = 60)\n",
    "\n",
    "button_Paper = tkinter.Button(root, text = \"Paper\", width=15, command=game_play(2))\n",
    "button_Paper.place(x = 50, y = 100)\n",
    "\n",
    "# Show status.\n",
    "msg_var = tkinter.StringVar()\n",
    "msg_label = tkinter.Label(root, textvariable = msg_var)\n",
    "msg_label.place(x = 100, y = 150)\n",
    "\n",
    "root.mainloop()"
   ]
  },
  {
   "cell_type": "code",
   "execution_count": null,
   "metadata": {},
   "outputs": [],
   "source": []
  },
  {
   "cell_type": "code",
   "execution_count": null,
   "metadata": {},
   "outputs": [],
   "source": []
  }
 ],
 "metadata": {
  "kernelspec": {
   "display_name": "Python 3",
   "language": "python",
   "name": "python3"
  },
  "language_info": {
   "codemirror_mode": {
    "name": "ipython",
    "version": 3
   },
   "file_extension": ".py",
   "mimetype": "text/x-python",
   "name": "python",
   "nbconvert_exporter": "python",
   "pygments_lexer": "ipython3",
   "version": "3.7.3"
  }
 },
 "nbformat": 4,
 "nbformat_minor": 2
}
