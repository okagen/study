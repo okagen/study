{
 "cells": [
  {
   "cell_type": "code",
   "execution_count": 12,
   "metadata": {},
   "outputs": [],
   "source": [
    "import random"
   ]
  },
  {
   "cell_type": "code",
   "execution_count": 20,
   "metadata": {},
   "outputs": [],
   "source": [
    "class RockPaperScissors:\n",
    "    HANDS = {0 : 'Rock', 1 : 'Scissors', 2 : 'Paper'}\n",
    "    JUDGE = {0 : \"DRAW\", 1 : \"LOSE\", 2 : \"WIN\", 99 : \"???\"}\n",
    "\n",
    "    # Initialize RPS.\n",
    "    def __init__(self):\n",
    "        self.you = 0\n",
    "        self.enemy = 0\n",
    "        self.judge = 0\n",
    "        self.result = \"No result.\"\n",
    "    \n",
    "    def you(self, you):\n",
    "        self.you = you\n",
    "\n",
    "    def enemy(self):\n",
    "        self.enemy = random.randint(0, 2)\n",
    "\n",
    "    def description(self):\n",
    "        print(\"Rock : 0, Scissors : 1, Paper : 2\")\n",
    "\n",
    "    def judge(you):\n",
    "        self.judge = (self.you - self.enemy + 3) % 3\n",
    "    \n",
    "    def result(self):\n",
    "        y = self.HANDS.get(self.you)\n",
    "        e = self.HANDS.get(self.enemy)\n",
    "        r = self.JUDGE.get(self.judge)\n",
    "        self.result = 'your hand : {0}, enemy\\'s hand : {1}, result : {2}'.format(y, e, r) "
   ]
  },
  {
   "cell_type": "code",
   "execution_count": 21,
   "metadata": {},
   "outputs": [],
   "source": [
    "class Game:\n",
    "    # Initialize game.\n",
    "    def __init__(self):\n",
    "        self.RPS = RockPaperScissors()\n",
    "    \n",
    "    def pley(you):\n",
    "        self.RPS.you(you)\n",
    "        self.enemy =  self.RPS.enemy()\n",
    "        self.judge =  self.RPS.judge()\n",
    "        self.result = self.RPS.result()"
   ]
  },
  {
   "cell_type": "code",
   "execution_count": 23,
   "metadata": {},
   "outputs": [],
   "source": [
    "def show_status():\n",
    "    global game\n",
    "    global msg_var\n",
    "    result = game.result\n",
    "    msg_var.set(msg)"
   ]
  },
  {
   "cell_type": "code",
   "execution_count": 25,
   "metadata": {},
   "outputs": [],
   "source": [
    "def game_play(you):\n",
    "    global game\n",
    "    game.play(you)"
   ]
  },
  {
   "cell_type": "code",
   "execution_count": 27,
   "metadata": {},
   "outputs": [
    {
     "ename": "NameError",
     "evalue": "name 'game' is not defined",
     "output_type": "error",
     "traceback": [
      "\u001b[1;31m---------------------------------------------------------------------------\u001b[0m",
      "\u001b[1;31mNameError\u001b[0m                                 Traceback (most recent call last)",
      "\u001b[1;32m<ipython-input-27-fb137a912d62>\u001b[0m in \u001b[0;36m<module>\u001b[1;34m\u001b[0m\n\u001b[0;32m     10\u001b[0m \u001b[1;33m\u001b[0m\u001b[0m\n\u001b[0;32m     11\u001b[0m \u001b[1;31m# Player's button.\u001b[0m\u001b[1;33m\u001b[0m\u001b[1;33m\u001b[0m\u001b[1;33m\u001b[0m\u001b[0m\n\u001b[1;32m---> 12\u001b[1;33m \u001b[0mbutton_Rock\u001b[0m \u001b[1;33m=\u001b[0m \u001b[0mtkinter\u001b[0m\u001b[1;33m.\u001b[0m\u001b[0mButton\u001b[0m\u001b[1;33m(\u001b[0m\u001b[0mroot\u001b[0m\u001b[1;33m,\u001b[0m \u001b[0mtext\u001b[0m \u001b[1;33m=\u001b[0m \u001b[1;34m\"Rock\"\u001b[0m\u001b[1;33m,\u001b[0m \u001b[0mwidth\u001b[0m\u001b[1;33m=\u001b[0m\u001b[1;36m15\u001b[0m\u001b[1;33m,\u001b[0m \u001b[0mcommand\u001b[0m\u001b[1;33m=\u001b[0m\u001b[0mgame_play\u001b[0m\u001b[1;33m(\u001b[0m\u001b[1;36m0\u001b[0m\u001b[1;33m)\u001b[0m\u001b[1;33m)\u001b[0m\u001b[1;33m\u001b[0m\u001b[1;33m\u001b[0m\u001b[0m\n\u001b[0m\u001b[0;32m     13\u001b[0m \u001b[0mbutton_Rock\u001b[0m\u001b[1;33m.\u001b[0m\u001b[0mplace\u001b[0m\u001b[1;33m(\u001b[0m\u001b[0mx\u001b[0m \u001b[1;33m=\u001b[0m \u001b[1;36m50\u001b[0m\u001b[1;33m,\u001b[0m \u001b[0my\u001b[0m \u001b[1;33m=\u001b[0m \u001b[1;36m20\u001b[0m\u001b[1;33m)\u001b[0m\u001b[1;33m\u001b[0m\u001b[1;33m\u001b[0m\u001b[0m\n\u001b[0;32m     14\u001b[0m \u001b[1;33m\u001b[0m\u001b[0m\n",
      "\u001b[1;32m<ipython-input-25-cadfc6beabea>\u001b[0m in \u001b[0;36mgame_play\u001b[1;34m(you)\u001b[0m\n\u001b[0;32m      1\u001b[0m \u001b[1;32mdef\u001b[0m \u001b[0mgame_play\u001b[0m\u001b[1;33m(\u001b[0m\u001b[0myou\u001b[0m\u001b[1;33m)\u001b[0m\u001b[1;33m:\u001b[0m\u001b[1;33m\u001b[0m\u001b[1;33m\u001b[0m\u001b[0m\n\u001b[0;32m      2\u001b[0m     \u001b[1;32mglobal\u001b[0m \u001b[0mgame\u001b[0m\u001b[1;33m\u001b[0m\u001b[1;33m\u001b[0m\u001b[0m\n\u001b[1;32m----> 3\u001b[1;33m     \u001b[0mgame\u001b[0m\u001b[1;33m.\u001b[0m\u001b[0mplay\u001b[0m\u001b[1;33m(\u001b[0m\u001b[0myou\u001b[0m\u001b[1;33m)\u001b[0m\u001b[1;33m\u001b[0m\u001b[1;33m\u001b[0m\u001b[0m\n\u001b[0m\u001b[0;32m      4\u001b[0m     \u001b[0mshow_status\u001b[0m\u001b[1;33m(\u001b[0m\u001b[1;33m)\u001b[0m\u001b[1;33m\u001b[0m\u001b[1;33m\u001b[0m\u001b[0m\n",
      "\u001b[1;31mNameError\u001b[0m: name 'game' is not defined"
     ]
    }
   ],
   "source": [
    "import tkinter\n",
    "\n",
    "BOARD_PX_SIZE = 500\n",
    "window_width = BOARD_PX_SIZE\n",
    "window_height = BOARD_PX_SIZE\n",
    "\n",
    "root = tkinter.Tk()\n",
    "root.title(\"Rock Paper Scissors\")\n",
    "root.geometry(str(window_width) + \"x\" + str(window_height))    \n",
    "\n",
    "# Player's button.\n",
    "button_Rock = tkinter.Button(root, text = \"Rock\", width=15, command=game_play(0))\n",
    "button_Rock.place(x = 50, y = 20)\n",
    "\n",
    "button_Scissors = tkinter.Button(root, text = \"Scissors\", width=15, command=game_play(1))\n",
    "button_Scissors.place(x = 50, y = 60)\n",
    "\n",
    "button_Paper = tkinter.Button(root, text = \"Paper\", width=15, command=game_play(2))\n",
    "button_Paper.place(x = 50, y = 100)\n",
    "\n",
    "# Show status.\n",
    "msg_var = tkinter.StringVar()\n",
    "msg_label = tkinter.Label(root, textvariable = msg_var)\n",
    "msg_label.place(x = 100, y = 150)\n",
    "\n",
    "show_status()\n",
    "\n",
    "root.mainloop()"
   ]
  },
  {
   "cell_type": "code",
   "execution_count": null,
   "metadata": {},
   "outputs": [],
   "source": []
  }
 ],
 "metadata": {
  "kernelspec": {
   "display_name": "Python 3",
   "language": "python",
   "name": "python3"
  },
  "language_info": {
   "codemirror_mode": {
    "name": "ipython",
    "version": 3
   },
   "file_extension": ".py",
   "mimetype": "text/x-python",
   "name": "python",
   "nbconvert_exporter": "python",
   "pygments_lexer": "ipython3",
   "version": "3.7.3"
  }
 },
 "nbformat": 4,
 "nbformat_minor": 2
}
