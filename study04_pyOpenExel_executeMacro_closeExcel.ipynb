{
 "cells": [
  {
   "cell_type": "markdown",
   "metadata": {},
   "source": [
    "# Open an excel file and execute a macro in the file then close it. / Excelファイルを開き、マクロを実行して閉じる。"
   ]
  },
  {
   "cell_type": "markdown",
   "metadata": {},
   "source": [
    "## Get an absolute path from a relative path of the excel file. "
   ]
  },
  {
   "cell_type": "code",
   "execution_count": 6,
   "metadata": {},
   "outputs": [
    {
     "name": "stdout",
     "output_type": "stream",
     "text": [
      "relative pth :  Data\\05_openpyxl\\xlsListAllFilesInFolderAndSubfolders.xlsm\n",
      "absolute path :  C:\\my_work\\GitHub\\study\\Data\\05_openpyxl\\xlsListAllFilesInFolderAndSubfolders.xlsm\n"
     ]
    }
   ],
   "source": [
    "import pathlib\n",
    "import os\n",
    "inputFile = \".\\\\Data\\\\05_openpyxl\\\\xlsListAllFilesInFolderAndSubfolders.xlsm\"\n",
    "\n",
    "inputFile_rel = pathlib.Path(inputFile)\n",
    "print(\"relative pth : \", inputFile_rel)\n",
    "\n",
    "inputFile_abs = inputFile_rel.resolve()\n",
    "print(\"absolute path : \", inputFile_abs.resolve())"
   ]
  },
  {
   "cell_type": "markdown",
   "metadata": {},
   "source": [
    "## Import libraries."
   ]
  },
  {
   "cell_type": "code",
   "execution_count": 7,
   "metadata": {},
   "outputs": [],
   "source": [
    "import win32com.client  # ライブラリをインポート"
   ]
  },
  {
   "cell_type": "markdown",
   "metadata": {},
   "source": [
    "## Create instance and open the excel file."
   ]
  },
  {
   "cell_type": "code",
   "execution_count": 8,
   "metadata": {},
   "outputs": [
    {
     "data": {
      "text/plain": [
       "<COMObject Open>"
      ]
     },
     "execution_count": 8,
     "metadata": {},
     "output_type": "execute_result"
    }
   ],
   "source": [
    "# Create instance.\n",
    "xls = win32com.client.Dispatch(\"Excel.Application\") \n",
    "# Show the excel file.\n",
    "xls.Visible = 1\n",
    "# Open the excel file as read-only.\n",
    "xls.Workbooks.Open(Filename=inputFile_abs, ReadOnly=1)"
   ]
  },
  {
   "cell_type": "markdown",
   "metadata": {},
   "source": [
    "## Execute a macro in the excel file.\n",
    "  1. It can execute both of public and private macro. / パブリックマクロでもプライベートマクロでもどちらでも実行可能。\n",
    "  1. In the case of the macro is written in a sheet, set the argument as \"Sheet Name.Macro Name\". / シート内にマクロを実装した場合、シート名.マクロ名 を記載する。"
   ]
  },
  {
   "cell_type": "code",
   "execution_count": 9,
   "metadata": {},
   "outputs": [],
   "source": [
    "xls.Application.Run('ToolSheet.CommandButton_GetFileList_Click')"
   ]
  },
  {
   "cell_type": "markdown",
   "metadata": {},
   "source": [
    "## Close the file."
   ]
  },
  {
   "cell_type": "code",
   "execution_count": 10,
   "metadata": {},
   "outputs": [],
   "source": [
    "# Close the file. Set SaveChanges= 1 if you want to save the changes.\n",
    "xls.Workbooks(1).Close(SaveChanges=0)\n",
    "xls.Application.Quit() "
   ]
  }
 ],
 "metadata": {
  "kernelspec": {
   "display_name": "Python 3",
   "language": "python",
   "name": "python3"
  },
  "language_info": {
   "codemirror_mode": {
    "name": "ipython",
    "version": 3
   },
   "file_extension": ".py",
   "mimetype": "text/x-python",
   "name": "python",
   "nbconvert_exporter": "python",
   "pygments_lexer": "ipython3",
   "version": "3.7.3"
  }
 },
 "nbformat": 4,
 "nbformat_minor": 2
}
