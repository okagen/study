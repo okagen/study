{
 "cells": [
  {
   "cell_type": "markdown",
   "metadata": {},
   "source": [
    "# Classを使ってじゃんけんゲームを作る。UIはTkinter。"
   ]
  },
  {
   "cell_type": "code",
   "execution_count": 1,
   "metadata": {},
   "outputs": [],
   "source": [
    "import random"
   ]
  },
  {
   "cell_type": "markdown",
   "metadata": {},
   "source": [
    "## 1. じゃんけんゲームクラス\n",
    "  - class内のメソッドの名前と、引数の名前が同一の場合エラーとなるため、***引数の接頭辞に\"_\"***を付けることにする。"
   ]
  },
  {
   "cell_type": "code",
   "execution_count": 2,
   "metadata": {},
   "outputs": [],
   "source": [
    "class RockPaperScissors:\n",
    "    HANDS = {0 : 'Rock', 1 : 'Scissors', 2 : 'Paper'}\n",
    "    JUDGE = {0 : \"DRAW\", 1 : \"LOSE\", 2 : \"WIN\", 99 : \"???\"}\n",
    "\n",
    "    # Initialize RPS.\n",
    "    def __init__(self):\n",
    "        self.y_hand, self.e_hand, self.judgement = 0, 0, 0\n",
    "\n",
    "    def you(self, _you):\n",
    "        self.y_hand = _you\n",
    "\n",
    "    def enemy(self):\n",
    "        # ランダムに敵の手を決める場合\n",
    "        # self.e_hand = random.randint(0, 2)\n",
    "        # プレイヤーの手を見て、敵の手を決める。必ず敵が勝つ。\n",
    "        self.e_hand = self.y_hand - 1\n",
    "\n",
    "    def judge(self):\n",
    "        self.judgement = (self.y_hand - self.e_hand + 3) % 3\n",
    "    \n",
    "    def result(self):\n",
    "        r = self.JUDGE.get(self.judgement)\n",
    "        self.result = 'your hand : {0}, enemy\\'s hand : {1}, result : {2}'.format(self.y_hand, self.e_hand, r) \n",
    "        return self.result"
   ]
  },
  {
   "cell_type": "markdown",
   "metadata": {},
   "source": [
    "## 2. ゲームの流れを定義するクラス\n",
    "  - じゃんけんクラスのインスタンスを作り、プレイヤーの手を引き数に取りゲームを一通り進める。"
   ]
  },
  {
   "cell_type": "code",
   "execution_count": 3,
   "metadata": {},
   "outputs": [],
   "source": [
    "class GameFlow:\n",
    "    # Initialize game.\n",
    "    def __init__(self):\n",
    "        self.game_mode = GAME_WAIT\n",
    "        self.RPS = RockPaperScissors()\n",
    "        self.result = \"No result.\"\n",
    "    \n",
    "    def play(self, _player):\n",
    "        self.game_mode = GAME_ONGOING\n",
    "        self.RPS.you(_player)\n",
    "        self.RPS.enemy()\n",
    "        self.RPS.judge()\n",
    "        self.result = self.RPS.result()\n",
    "        \n",
    "    def showResult(self):\n",
    "        self.game_mode = GAME_END\n",
    "        return self.result\n",
    "        "
   ]
  },
  {
   "cell_type": "markdown",
   "metadata": {},
   "source": [
    "## 3. ゲームを実行する\n",
    "  - ゲームの流れを定義するクラスを実行する。"
   ]
  },
  {
   "cell_type": "code",
   "execution_count": 4,
   "metadata": {},
   "outputs": [],
   "source": [
    "def game_play(y_hand):\n",
    "    global msg_var\n",
    "    game = GameFlow()\n",
    "    game.play(y_hand)\n",
    "    return game.showResult()"
   ]
  },
  {
   "cell_type": "markdown",
   "metadata": {},
   "source": [
    "## 4. メイン関数\n",
    "  - tiinterでGUIを作り、じゃんけんゲームを実行する。"
   ]
  },
  {
   "cell_type": "code",
   "execution_count": 5,
   "metadata": {},
   "outputs": [],
   "source": [
    "import tkinter as tk\n",
    "\n",
    "MAIN_WINDOW_SIZE = 300\n",
    "window_width = MAIN_WINDOW_SIZE\n",
    "window_height = MAIN_WINDOW_SIZE\n",
    "GAME_WAIT = 0\n",
    "GAME_ONGOING = 1\n",
    "GAME_END = 2\n",
    "\n",
    "root = tk.Tk()\n",
    "root.title(\"Rock Paper Scissors\")\n",
    "#root.minsize(width=window_width, height=window_height)\n",
    "\n",
    "msg = tk.StringVar()\n",
    "\n",
    "# Frame as Widget Container\n",
    "frm = tk.Frame(root, relief='flat', borderwidth=5)\n",
    "frm.grid()\n",
    "\n",
    "# Rock button\n",
    "def btn_clicked(n):\n",
    "    if n == 0:\n",
    "        button0.config(relief=tk.SUNKEN, fg='red')\n",
    "        button1.config(relief=tk.RAISED, fg='black')\n",
    "        button2.config(relief=tk.RAISED, fg='black')\n",
    "    elif n == 1:\n",
    "        button0.config(relief=tk.RAISED, fg='black')\n",
    "        button1.config(relief=tk.SUNKEN, fg='red')\n",
    "        button2.config(relief=tk.RAISED, fg='black')\n",
    "    elif n == 2:\n",
    "        button0.config(relief=tk.RAISED, fg='black')\n",
    "        button1.config(relief=tk.RAISED, fg='black')\n",
    "        button2.config(relief=tk.SUNKEN, fg='red')\n",
    "    msg.set(game_play(n))\n",
    "\n",
    "button0 = tk.Button(master=frm, text='Rock', compound=tk.TOP, height=5, width=15)\n",
    "button0['command'] = lambda: btn_clicked(0)\n",
    "button0.grid(row=1, column=1)\n",
    "\n",
    "button1 = tk.Button(master=frm, text='Paper', compound=tk.TOP, height=5, width=15)\n",
    "button1['command'] = lambda: btn_clicked(1)\n",
    "button1.grid(row=1, column=2)\n",
    "\n",
    "button2 = tk.Button(master=frm, text='Scissors', compound=tk.TOP, height=5, width=15)\n",
    "button2['command'] = lambda: btn_clicked(2)\n",
    "button2.grid(row=1, column=3)\n",
    "\n",
    "label1 = tk.Label(master=frm, textvariable=msg)\n",
    "label1.grid(row=2, column=1, columnspan=3)\n",
    "\n",
    "root.mainloop()"
   ]
  }
 ],
 "metadata": {
  "kernelspec": {
   "display_name": "Python 3",
   "language": "python",
   "name": "python3"
  },
  "language_info": {
   "codemirror_mode": {
    "name": "ipython",
    "version": 3
   },
   "file_extension": ".py",
   "mimetype": "text/x-python",
   "name": "python",
   "nbconvert_exporter": "python",
   "pygments_lexer": "ipython3",
   "version": "3.7.4"
  }
 },
 "nbformat": 4,
 "nbformat_minor": 2
}
