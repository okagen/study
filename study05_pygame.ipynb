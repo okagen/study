{
 "cells": [
  {
   "cell_type": "markdown",
   "metadata": {},
   "source": [
    "# pygameを試す\n",
    "pygameは、現時点でPython 3.5の環境じゃないとインストールが出来ないので、仮想環境を作ってpygameを試す。\n",
    "  - pygameが動くpython 3.5の仮想環境を構築する。 `>conda create -n py35 python=3.5`\n",
    "  - pygameをインストールする。 `>conda install -c cogsci pygame`\n",
    "  - プログラムを試す。"
   ]
  },
  {
   "cell_type": "markdown",
   "metadata": {},
   "source": [
    "## 1. python3.5の仮想環境構築\n",
    "### 1-1. 現在の環境を確認\n",
    "baseの環境のみが存在している。\n",
    "~~~\n",
    "(base) C:\\***>conda info -e\n",
    "# conda environments:\n",
    "base                  *  C:\\***\\anaconda3\n",
    "~~~\n",
    "\n",
    "### 1-2. py35という名前で仮想環境を作成\n",
    "現時点でpygameがpython3.5に対応しているため、python3.5をインストールする。\n",
    "~~~\n",
    "(base) C:\\***>conda create -n py35 python=3.5\n",
    "\n",
    "~~~\n",
    "\n",
    "### 1-3. 仮想環境が出来たか確認\n",
    "py35という名前の仮想環境が出来ている。\\*が付いた方がactiveな環境。\n",
    "~~~\n",
    "(base) C:\\***>conda info -e\n",
    "# conda environments:\n",
    "base                  *  C:\\***\\anaconda3\n",
    "py35                     C:\\***\\anaconda3\\envs\\py35\n",
    "~~~\n",
    "\n",
    "### 1-4. 仮想環境を切り替え\n",
    "py35をactiveにする。\n",
    "~~~\n",
    "(base) C:\\***>activate py35\n",
    "base                     C:\\***\\anaconda3\n",
    "py35                  *  C:\\***\\anaconda3\\envs\\py35\n",
    "~~~\n",
    "\n",
    "### 1-5. py35環境にJupyterとSpyderをインストールする\n",
    "~~~\n",
    "(py35) C:\\***>conda install jupyter\n",
    "(py35) C:\\***>conda install spyder\n",
    "~~~\n",
    "\n",
    "### 1-6. 環境をアップデートしないとうまく動かなかったので、アップデートする。\n",
    "\n",
    "~~~\n",
    ">conda update –-all\n",
    "~~~\n",
    "\n",
    "### py35の仮想環境を削除する場合。\n",
    "一旦対象をdeactivate。（baseをacctivate）し、ターミナルを再起動する。その後、py35の削除処理を行う。\n",
    "~~~\n",
    "(py35) C:\\***>conda.bat activate base\n",
    "(base) C:\\***>conda remove -n py35 --all\n",
    "~~~"
   ]
  },
  {
   "cell_type": "markdown",
   "metadata": {},
   "source": [
    "## 2. プログラムを試す"
   ]
  },
  {
   "cell_type": "code",
   "execution_count": 1,
   "metadata": {},
   "outputs": [],
   "source": [
    "import pygame\n",
    "from pygame.locals import MOUSEBUTTONDOWN, QUIT\n",
    "import sys\n",
    "import random"
   ]
  },
  {
   "cell_type": "code",
   "execution_count": 2,
   "metadata": {},
   "outputs": [],
   "source": [
    "class Agent:\n",
    "    def __init__(self, x, y, vx, vy):\n",
    "        self.x, self.y = x, y # position \n",
    "        self.vx, self.vy = vx, vy # velocity\n",
    "        \n",
    "    def update(self, WINDOW_W, WINDOW_H):\n",
    "        self.x += self.vx\n",
    "        self.y += self.vy\n",
    "        \n",
    "        #Right edge.\n",
    "        if self.x > WINDOW_W:\n",
    "            self.vx, self.x = -self.vx, WINDOW_W\n",
    "            return\n",
    "        \n",
    "        #Left edge.\n",
    "        if self.x < 0:\n",
    "            self.vx, self.x = -self.vx, 0\n",
    "            return\n",
    "        \n",
    "        #Upper edge.\n",
    "        if self.y > WINDOW_H:\n",
    "            self.vy, self.y = -self.vy, WINDOW_H\n",
    "            return\n",
    "        #Lower edge.\n",
    "        \n",
    "        if self.y < 0:\n",
    "            self.vy, self.y = -self.vy, 0\n",
    "            return\n",
    "\n",
    "    def draw(self, screen):\n",
    "        x, y = int(self.x), int(self.y)\n",
    "        pygame.draw.circle(screen, (255,0,0),(x,y),5)"
   ]
  },
  {
   "cell_type": "code",
   "execution_count": 3,
   "metadata": {},
   "outputs": [
    {
     "ename": "SystemExit",
     "evalue": "",
     "output_type": "error",
     "traceback": [
      "An exception has occurred, use %tb to see the full traceback.\n",
      "\u001b[1;31mSystemExit\u001b[0m\n"
     ]
    },
    {
     "name": "stderr",
     "output_type": "stream",
     "text": [
      "C:\\Users\\10007434\\AppData\\Local\\Continuum\\anaconda3\\envs\\py35\\lib\\site-packages\\IPython\\core\\interactiveshell.py:2969: UserWarning: To exit: use 'exit', 'quit', or Ctrl-D.\n",
      "  warn(\"To exit: use 'exit', 'quit', or Ctrl-D.\", stacklevel=1)\n"
     ]
    }
   ],
   "source": [
    "#main\n",
    "WINDOW_W, WINDOW_H = 1000, 700\n",
    "pygame.init()\n",
    "#Create window.\n",
    "screen = pygame.display.set_mode((WINDOW_W, WINDOW_H))\n",
    "clock = pygame.time.Clock()\n",
    "font = pygame.font.Font(None, 28)\n",
    "agent_list = []\n",
    "\n",
    "while True:\n",
    "    clock.tick(60)\n",
    "    \n",
    "    # Fill screen with white.\n",
    "    screen.fill((255, 255, 255))\n",
    "    \n",
    "    # Process each agent.\n",
    "    for a in agent_list:\n",
    "        a.update(WINDOW_W, WINDOW_H)\n",
    "        a.draw(screen)\n",
    "    \n",
    "    # Show the number of the agent.\n",
    "    sl = \"agents : \" + str(len(agent_list))\n",
    "    text = font.render(sl, True, (0,0,0))\n",
    "    screen.blit(text, (1, 1))\n",
    "\n",
    "    # Process events.\n",
    "    for e in pygame.event.get():\n",
    "        # When clicked the left button on mouse.\n",
    "        if e.type == MOUSEBUTTONDOWN and e.button==1:\n",
    "            # Set velocity by use a random number.\n",
    "            vx = random.uniform(-1.5,1.5)\n",
    "            vy = random.uniform(-1.5,1.5)\n",
    "            # create agents.\n",
    "            a = Agent(e.pos[0], e.pos[1], vx, vy)\n",
    "            # Add created agent into the agent list.\n",
    "            agent_list.append(a)\n",
    "        if e.type == QUIT:\n",
    "            pygame.quit()\n",
    "            sys.exit()\n",
    "        \n",
    "    pygame.display.update()\n",
    "    "
   ]
  },
  {
   "cell_type": "code",
   "execution_count": null,
   "metadata": {},
   "outputs": [],
   "source": []
  }
 ],
 "metadata": {
  "kernelspec": {
   "display_name": "Python 3",
   "language": "python",
   "name": "python3"
  },
  "language_info": {
   "codemirror_mode": {
    "name": "ipython",
    "version": 3
   },
   "file_extension": ".py",
   "mimetype": "text/x-python",
   "name": "python",
   "nbconvert_exporter": "python",
   "pygments_lexer": "ipython3",
   "version": "3.5.6"
  }
 },
 "nbformat": 4,
 "nbformat_minor": 2
}
